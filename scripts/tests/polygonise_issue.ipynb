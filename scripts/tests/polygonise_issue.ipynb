{
 "cells": [
  {
   "cell_type": "code",
   "execution_count": 176,
   "id": "7afedf14-e10c-4c3f-87a6-2812e9c8e27d",
   "metadata": {},
   "outputs": [],
   "source": [
    "import rasterio\n",
    "import numpy as np\n",
    "from scipy import sparse"
   ]
  },
  {
   "cell_type": "code",
   "execution_count": 156,
   "id": "49bab68f-b89f-4b89-8983-40d06c815666",
   "metadata": {},
   "outputs": [],
   "source": [
    "# Read the raster data for 2020 and convert to sparse matrix\n",
    "fp1 = '../data/MBfogo_c10_cerrado_2020.tif'\n",
    "fp2 = '../data/MBfogo_c10_cerrado_2019.tif'\n",
    "fp3 = '../data/MBfogo_c10_cerrado_2018.tif'"
   ]
  },
  {
   "cell_type": "code",
   "execution_count": 157,
   "id": "1207f1d8-f3d3-49c7-9509-471827777b34",
   "metadata": {},
   "outputs": [
    {
     "name": "stdout",
     "output_type": "stream",
     "text": [
      "{'driver': 'GTiff', 'dtype': 'uint8', 'nodata': None, 'width': 71227, 'height': 82933, 'count': 1, 'crs': CRS.from_epsg(4326), 'transform': Affine(0.0002694945852358564, 0.0, -60.47269846482955,\n",
      "       0.0, -0.0002694945852358564, -2.3319366460458646)}\n"
     ]
    }
   ],
   "source": [
    "with rasterio.open(fp1) as src:\n",
    "    print(src.meta)\n",
    "    width = src.width\n",
    "    height = src.height\n",
    "#     data = src.read(1)"
   ]
  },
  {
   "cell_type": "code",
   "execution_count": 20,
   "id": "ca10552d-24f9-4a3b-bcbd-e273452cf234",
   "metadata": {},
   "outputs": [
    {
     "name": "stdout",
     "output_type": "stream",
     "text": [
      "{'driver': 'GTiff', 'dtype': 'uint8', 'nodata': None, 'width': 71227, 'height': 82933, 'count': 1, 'crs': CRS.from_epsg(4326), 'transform': Affine(0.0002694945852358564, 0.0, -60.47269846482955,\n",
      "       0.0, -0.0002694945852358564, -2.3319366460458646)}\n"
     ]
    }
   ],
   "source": [
    "with rasterio.open(fp2) as src:\n",
    "    print(src.meta)\n",
    "    data2 = src.read(1)"
   ]
  },
  {
   "cell_type": "code",
   "execution_count": null,
   "id": "054d2770-9de2-4196-afd8-a0458235ae57",
   "metadata": {},
   "outputs": [],
   "source": [
    "with rasterio.open(fp3) as src:\n",
    "    print(src.meta)\n",
    "    print(src.block_windows(1))\n",
    "    for ji, window in src.block_windows(1):\n",
    "        print((ji, window))"
   ]
  },
  {
   "cell_type": "markdown",
   "id": "45057a15-5468-4df8-90ba-d52548fe8528",
   "metadata": {},
   "source": [
    "## Polygonise issue"
   ]
  },
  {
   "cell_type": "code",
   "execution_count": 177,
   "id": "980a05d2-684e-46bb-917d-39ccfc821d7f",
   "metadata": {
    "tags": []
   },
   "outputs": [],
   "source": [
    "import sys\n",
    "sys.path.append('../')\n",
    "import MBfogo_raster_to_polygon as pol"
   ]
  },
  {
   "cell_type": "code",
   "execution_count": 179,
   "id": "dc0dea95-9a53-4ce3-bc49-1d60124f7454",
   "metadata": {},
   "outputs": [],
   "source": [
    "fp = '../../_chapter01 - Copy/data/MBfogo_c10_nova-xavantina_2019.tif'\n",
    "out_dir = '../../_chapter01 - Copy/data_processed/MBfogo_c10_polygons/MBfogo_c10_nova-xavantina_polygons_2019.shp'"
   ]
  },
  {
   "cell_type": "code",
   "execution_count": 19,
   "id": "d6f73ca4-234e-4263-82eb-b295d95c5fd0",
   "metadata": {},
   "outputs": [
    {
     "name": "stdout",
     "output_type": "stream",
     "text": [
      "The autoreload extension is already loaded. To reload it, use:\n",
      "  %reload_ext autoreload\n",
      "Reading raster file\n",
      "Polygonising raster.\n",
      "Filtering selected raster value polygons.\n",
      "Saving file MBfogo_c10_nova-xavantina_polygons_2019.shp\n"
     ]
    }
   ],
   "source": [
    "%load_ext autoreload\n",
    "%autoreload 2\n",
    "pol.raster_to_polygon(fp, out_dir, list(range(1, 12 + 1)), connectivity = 8)"
   ]
  },
  {
   "cell_type": "code",
   "execution_count": 9,
   "id": "91832daa-445a-4049-839a-ef945b57bf55",
   "metadata": {},
   "outputs": [
    {
     "data": {
      "text/plain": [
       "'C:\\\\Users\\\\scat8298\\\\Documents\\\\carlota\\\\projects\\\\_chapter01\\\\scripts'"
      ]
     },
     "execution_count": 9,
     "metadata": {},
     "output_type": "execute_result"
    }
   ],
   "source": [
    "import os\n",
    "os.getcwd()"
   ]
  },
  {
   "cell_type": "code",
   "execution_count": 21,
   "id": "db920589-70c8-4647-b4a7-b9c553051beb",
   "metadata": {},
   "outputs": [],
   "source": [
    "# Checking validity of the created geomtries\n",
    "import geopandas as gpd\n",
    "nx_pol = gpd.read_file(out_dir)"
   ]
  },
  {
   "cell_type": "code",
   "execution_count": 22,
   "id": "c49ea7ff-de34-4837-be28-cf828bcd6a75",
   "metadata": {},
   "outputs": [
    {
     "data": {
      "text/html": [
       "<div>\n",
       "<style scoped>\n",
       "    .dataframe tbody tr th:only-of-type {\n",
       "        vertical-align: middle;\n",
       "    }\n",
       "\n",
       "    .dataframe tbody tr th {\n",
       "        vertical-align: top;\n",
       "    }\n",
       "\n",
       "    .dataframe thead th {\n",
       "        text-align: right;\n",
       "    }\n",
       "</style>\n",
       "<table border=\"1\" class=\"dataframe\">\n",
       "  <thead>\n",
       "    <tr style=\"text-align: right;\">\n",
       "      <th></th>\n",
       "      <th>raster_val</th>\n",
       "      <th>geometry</th>\n",
       "    </tr>\n",
       "  </thead>\n",
       "  <tbody>\n",
       "    <tr>\n",
       "      <th>0</th>\n",
       "      <td>9</td>\n",
       "      <td>POLYGON ((-51.99224 -14.41958, -51.99197 -14.4...</td>\n",
       "    </tr>\n",
       "    <tr>\n",
       "      <th>1</th>\n",
       "      <td>10</td>\n",
       "      <td>POLYGON ((-51.99090 -14.41958, -51.99063 -14.4...</td>\n",
       "    </tr>\n",
       "    <tr>\n",
       "      <th>2</th>\n",
       "      <td>9</td>\n",
       "      <td>POLYGON ((-51.98254 -14.41958, -51.98227 -14.4...</td>\n",
       "    </tr>\n",
       "    <tr>\n",
       "      <th>3</th>\n",
       "      <td>9</td>\n",
       "      <td>POLYGON ((-51.97877 -14.41958, -51.97850 -14.4...</td>\n",
       "    </tr>\n",
       "    <tr>\n",
       "      <th>4</th>\n",
       "      <td>10</td>\n",
       "      <td>POLYGON ((-51.97769 -14.41958, -51.97742 -14.4...</td>\n",
       "    </tr>\n",
       "  </tbody>\n",
       "</table>\n",
       "</div>"
      ],
      "text/plain": [
       "   raster_val                                           geometry\n",
       "0           9  POLYGON ((-51.99224 -14.41958, -51.99197 -14.4...\n",
       "1          10  POLYGON ((-51.99090 -14.41958, -51.99063 -14.4...\n",
       "2           9  POLYGON ((-51.98254 -14.41958, -51.98227 -14.4...\n",
       "3           9  POLYGON ((-51.97877 -14.41958, -51.97850 -14.4...\n",
       "4          10  POLYGON ((-51.97769 -14.41958, -51.97742 -14.4..."
      ]
     },
     "execution_count": 22,
     "metadata": {},
     "output_type": "execute_result"
    }
   ],
   "source": [
    "nx_pol.head()"
   ]
  },
  {
   "cell_type": "code",
   "execution_count": 23,
   "id": "6a3efd5c-537f-4804-b300-f6ab536e218a",
   "metadata": {},
   "outputs": [
    {
     "data": {
      "text/plain": [
       "0         True\n",
       "1         True\n",
       "2         True\n",
       "3         True\n",
       "4        False\n",
       "         ...  \n",
       "12420    False\n",
       "12421     True\n",
       "12422     True\n",
       "12423     True\n",
       "12424     True\n",
       "Length: 12425, dtype: bool"
      ]
     },
     "execution_count": 23,
     "metadata": {},
     "output_type": "execute_result"
    }
   ],
   "source": [
    "nx_pol.geometry.is_valid"
   ]
  },
  {
   "cell_type": "code",
   "execution_count": 25,
   "id": "e84690c0-ddbf-4304-b7bf-c1251b70d10e",
   "metadata": {},
   "outputs": [
    {
     "data": {
      "image/svg+xml": [
       "<svg xmlns=\"http://www.w3.org/2000/svg\" xmlns:xlink=\"http://www.w3.org/1999/xlink\" width=\"100.0\" height=\"100.0\" viewBox=\"-51.97771170830267 -14.420137826736632 0.0005821083046626541 0.0005821083034707186\" preserveAspectRatio=\"xMinYMin meet\"><g transform=\"matrix(1,0,0,-1,0,-28.839693545169794)\"><path fill-rule=\"evenodd\" fill=\"#ff3333\" stroke=\"#555555\" stroke-width=\"1.1642166093253081e-05\" opacity=\"0.6\" d=\"M -51.97769014873583,-14.419577278 L -51.977420654150336,-14.419577278 L -51.977420654150336,-14.419846772584897 L -51.97715115956485,-14.419846772584897 L -51.97715115956485,-14.420116267169792 L -51.977420654150336,-14.420116267169792 L -51.977420654150336,-14.419846772584897 L -51.97769014873583,-14.419846772584897 L -51.97769014873583,-14.419577278 z\" /></g></svg>"
      ],
      "text/plain": [
       "<shapely.geometry.polygon.Polygon at 0x14cbbdd0370>"
      ]
     },
     "execution_count": 25,
     "metadata": {},
     "output_type": "execute_result"
    }
   ],
   "source": [
    "nx_pol.loc[4, 'geometry']"
   ]
  },
  {
   "cell_type": "code",
   "execution_count": null,
   "id": "ca552ee9-1d87-41b6-b2ba-cd67cd0dcca4",
   "metadata": {},
   "outputs": [],
   "source": []
  },
  {
   "cell_type": "code",
   "execution_count": 28,
   "id": "903f54bb-44c9-4f13-91a3-83810761eeac",
   "metadata": {},
   "outputs": [],
   "source": [
    "from shapely.validation import explain_validity"
   ]
  },
  {
   "cell_type": "code",
   "execution_count": 29,
   "id": "3c0e704b-e03c-4c70-bca4-5a6f519707c6",
   "metadata": {},
   "outputs": [
    {
     "data": {
      "text/plain": [
       "'Ring Self-intersection[-51.9774206541503 -14.4198467725849]'"
      ]
     },
     "execution_count": 29,
     "metadata": {},
     "output_type": "execute_result"
    }
   ],
   "source": [
    "explain_validity(nx_pol.loc[4, 'geometry'])"
   ]
  },
  {
   "cell_type": "code",
   "execution_count": 34,
   "id": "01cdf1d8-8855-4d90-bbc0-d5a0f4b7a831",
   "metadata": {},
   "outputs": [
    {
     "ename": "AttributeError",
     "evalue": "module 'shapely.validation' has no attribute 'make_valid'",
     "output_type": "error",
     "traceback": [
      "\u001b[1;31m---------------------------------------------------------------------------\u001b[0m",
      "\u001b[1;31mAttributeError\u001b[0m                            Traceback (most recent call last)",
      "\u001b[1;32m<ipython-input-34-ee3c483b88d5>\u001b[0m in \u001b[0;36m<module>\u001b[1;34m\u001b[0m\n\u001b[1;32m----> 1\u001b[1;33m \u001b[0mshapely\u001b[0m\u001b[1;33m.\u001b[0m\u001b[0mvalidation\u001b[0m\u001b[1;33m.\u001b[0m\u001b[0mmake_valid\u001b[0m\u001b[1;33m(\u001b[0m\u001b[0mnx_pol\u001b[0m\u001b[1;33m.\u001b[0m\u001b[0mloc\u001b[0m\u001b[1;33m[\u001b[0m\u001b[1;36m4\u001b[0m\u001b[1;33m,\u001b[0m \u001b[1;34m'geometry'\u001b[0m\u001b[1;33m]\u001b[0m\u001b[1;33m)\u001b[0m\u001b[1;33m\u001b[0m\u001b[1;33m\u001b[0m\u001b[0m\n\u001b[0m",
      "\u001b[1;31mAttributeError\u001b[0m: module 'shapely.validation' has no attribute 'make_valid'"
     ]
    }
   ],
   "source": [
    "shapely.validation.make_valid(nx_pol.loc[4, 'geometry'])"
   ]
  },
  {
   "cell_type": "code",
   "execution_count": 31,
   "id": "ace1660e-a64b-4ebd-8e15-a0a219228383",
   "metadata": {},
   "outputs": [],
   "source": [
    "import shapely"
   ]
  },
  {
   "cell_type": "code",
   "execution_count": 35,
   "id": "33b77e65-4d2f-4614-bc14-872a54be0499",
   "metadata": {},
   "outputs": [
    {
     "data": {
      "text/plain": [
       "False"
      ]
     },
     "execution_count": 35,
     "metadata": {},
     "output_type": "execute_result"
    }
   ],
   "source": [
    "nx_pol.loc[4, 'geometry'].is_valid"
   ]
  },
  {
   "cell_type": "code",
   "execution_count": 36,
   "id": "1b580779-5ce5-4655-976c-338b5ccafd5e",
   "metadata": {},
   "outputs": [
    {
     "data": {
      "image/svg+xml": [
       "<svg xmlns=\"http://www.w3.org/2000/svg\" xmlns:xlink=\"http://www.w3.org/1999/xlink\" width=\"100.0\" height=\"100.0\" viewBox=\"-51.97771170830267 -14.420137826736632 0.0005821083046626541 0.0005821083034707186\" preserveAspectRatio=\"xMinYMin meet\"><g transform=\"matrix(1,0,0,-1,0,-28.839693545169794)\"><g><path fill-rule=\"evenodd\" fill=\"#66cc99\" stroke=\"#555555\" stroke-width=\"1.1642166093253081e-05\" opacity=\"0.6\" d=\"M -51.97769014873583,-14.419577278 L -51.977420654150336,-14.419577278 L -51.977420654150336,-14.419846772584897 L -51.97769014873583,-14.419846772584897 L -51.97769014873583,-14.419577278 z\" /><path fill-rule=\"evenodd\" fill=\"#66cc99\" stroke=\"#555555\" stroke-width=\"1.1642166093253081e-05\" opacity=\"0.6\" d=\"M -51.977420654150336,-14.419846772584897 L -51.97715115956485,-14.419846772584897 L -51.97715115956485,-14.420116267169792 L -51.977420654150336,-14.420116267169792 L -51.977420654150336,-14.419846772584897 z\" /></g></g></svg>"
      ],
      "text/plain": [
       "<shapely.geometry.multipolygon.MultiPolygon at 0x14cbc137f10>"
      ]
     },
     "execution_count": 36,
     "metadata": {},
     "output_type": "execute_result"
    }
   ],
   "source": [
    "nx_pol.loc[4, 'geometry'].buffer(0)"
   ]
  },
  {
   "cell_type": "code",
   "execution_count": 37,
   "id": "20038763-4d81-40c5-af44-10360bbd9b62",
   "metadata": {},
   "outputs": [
    {
     "data": {
      "text/plain": [
       "'Polygon'"
      ]
     },
     "execution_count": 37,
     "metadata": {},
     "output_type": "execute_result"
    }
   ],
   "source": [
    "nx_pol.loc[4, 'geometry'].geom_type"
   ]
  },
  {
   "cell_type": "code",
   "execution_count": 78,
   "id": "d3f0bdf4-5b73-4c7f-a8df-cd994398ac2c",
   "metadata": {},
   "outputs": [
    {
     "data": {
      "text/plain": [
       "'Ring Self-intersection[-51.9774206541503 -14.4198467725849]'"
      ]
     },
     "execution_count": 78,
     "metadata": {},
     "output_type": "execute_result"
    }
   ],
   "source": [
    "explain_validity(nx_pol.loc[4, 'geometry'])"
   ]
  },
  {
   "cell_type": "code",
   "execution_count": 42,
   "id": "74e6d7b5-5e9c-457a-9f29-4a32c093edb8",
   "metadata": {},
   "outputs": [
    {
     "data": {
      "text/plain": [
       "0        0\n",
       "1        0\n",
       "2        0\n",
       "3        0\n",
       "4        1\n",
       "        ..\n",
       "12420    1\n",
       "12421    0\n",
       "12422    0\n",
       "12423    0\n",
       "12424    0\n",
       "Name: geometry, Length: 12425, dtype: int64"
      ]
     },
     "execution_count": 42,
     "metadata": {},
     "output_type": "execute_result"
    }
   ],
   "source": [
    "nx_pol.geometry.apply(lambda geo: (geo.geom_type == 'Polygon') & (~geo.is_valid))"
   ]
  },
  {
   "cell_type": "code",
   "execution_count": 46,
   "id": "791bb101-5868-49d2-92fc-f094db2e5882",
   "metadata": {},
   "outputs": [],
   "source": [
    "invalid = nx_pol.loc[~ nx_pol.geometry.is_valid, :]"
   ]
  },
  {
   "cell_type": "code",
   "execution_count": 47,
   "id": "70c7a4a2-7a7e-4830-bac6-0c33dfe756cd",
   "metadata": {},
   "outputs": [
    {
     "data": {
      "text/plain": [
       "2345"
      ]
     },
     "execution_count": 47,
     "metadata": {},
     "output_type": "execute_result"
    }
   ],
   "source": [
    "len(invalid)"
   ]
  },
  {
   "cell_type": "code",
   "execution_count": 62,
   "id": "6dc5631f-b805-446d-b2ba-93e3d3610e11",
   "metadata": {},
   "outputs": [],
   "source": [
    "invalid = invalid.reset_index(drop=True)"
   ]
  },
  {
   "cell_type": "code",
   "execution_count": 69,
   "id": "47b4a678-c1f9-4c50-8455-f1e4e0f02127",
   "metadata": {},
   "outputs": [
    {
     "data": {
      "text/plain": [
       "'Ring Self-intersection[-52.0127244448502 -14.4206552563396]'"
      ]
     },
     "execution_count": 69,
     "metadata": {},
     "output_type": "execute_result"
    }
   ],
   "source": [
    "explain_validity(invalid.loc[5, 'geometry'])"
   ]
  },
  {
   "cell_type": "code",
   "execution_count": 98,
   "id": "812287e2-48c3-44d8-83cc-091a2a0d6fa9",
   "metadata": {},
   "outputs": [],
   "source": [
    "index = [element for element in invalid.geometry.apply(lambda x: \"Ring Self-intersection\" in explain_validity(x))]# if element == False]\n",
    "index = [not element for element in index]\n"
   ]
  },
  {
   "cell_type": "code",
   "execution_count": 101,
   "id": "d894af22-ea2d-41f6-b894-4b0a8e91e253",
   "metadata": {},
   "outputs": [
    {
     "data": {
      "text/plain": [
       "451     Interior is disconnected[-52.1075865389443 -14...\n",
       "1001    Interior is disconnected[-52.0431773330111 -14...\n",
       "1334    Interior is disconnected[-52.0062565747983 -14...\n",
       "1762    Interior is disconnected[-51.9857749863007 -14...\n",
       "1844    Interior is disconnected[-52.1703787773646 -14...\n",
       "2166    Interior is disconnected[-52.3835489944909 -14...\n",
       "Name: geometry, dtype: object"
      ]
     },
     "execution_count": 101,
     "metadata": {},
     "output_type": "execute_result"
    }
   ],
   "source": [
    "invalid.loc[index, 'geometry'].apply(lambda x: explain_validity(x))"
   ]
  },
  {
   "cell_type": "code",
   "execution_count": 105,
   "id": "0e971093-971e-45fa-9769-7b1774d11452",
   "metadata": {},
   "outputs": [
    {
     "data": {
      "image/svg+xml": [
       "<svg xmlns=\"http://www.w3.org/2000/svg\" xmlns:xlink=\"http://www.w3.org/1999/xlink\" width=\"100.0\" height=\"100.0\" viewBox=\"-52.006569188517446 -14.543048917016206 0.0011642166093324136 0.0011642166069432136\" preserveAspectRatio=\"xMinYMin meet\"><g transform=\"matrix(1,0,0,-1,0,-29.08493361742547)\"><path fill-rule=\"evenodd\" fill=\"#ff3333\" stroke=\"#555555\" stroke-width=\"2.328433218664827e-05\" opacity=\"0.6\" d=\"M -52.005987080212776,-14.541927819542941 L -52.00571758562729,-14.541927819542941 L -52.00571758562729,-14.542197314127838 L -52.00544809104179,-14.542197314127838 L -52.00544809104179,-14.543005797882527 L -52.00571758562729,-14.543005797882527 L -52.00625657479827,-14.543005797882527 L -52.00625657479827,-14.54273630329763 L -52.00652606938377,-14.54273630329763 L -52.00652606938377,-14.542466808712735 L -52.00625657479827,-14.542466808712735 L -52.00625657479827,-14.542197314127838 L -52.005987080212776,-14.542197314127838 L -52.005987080212776,-14.541927819542941 z M -52.00625657479827,-14.542466808712735 L -52.00625657479827,-14.54273630329763 L -52.005987080212776,-14.54273630329763 L -52.005987080212776,-14.542466808712735 L -52.00625657479827,-14.542466808712735 z\" /></g></svg>"
      ],
      "text/plain": [
       "<shapely.geometry.polygon.Polygon at 0x14cbbb9e580>"
      ]
     },
     "execution_count": 105,
     "metadata": {},
     "output_type": "execute_result"
    }
   ],
   "source": [
    "invalid.loc[1334    , 'geometry']"
   ]
  },
  {
   "cell_type": "code",
   "execution_count": 108,
   "id": "bdcfd974-369c-46ac-a1b8-e2021bdc8812",
   "metadata": {},
   "outputs": [
    {
     "data": {
      "text/plain": [
       "shapely.geometry.multipolygon.MultiPolygon"
      ]
     },
     "execution_count": 108,
     "metadata": {},
     "output_type": "execute_result"
    }
   ],
   "source": [
    "type(invalid.loc[1334    , 'geometry'].buffer(0))"
   ]
  },
  {
   "cell_type": "code",
   "execution_count": 74,
   "id": "07701bed-170d-4c32-8dda-c7207c4f22b0",
   "metadata": {},
   "outputs": [
    {
     "data": {
      "text/plain": [
       "'MultiPolygon'"
      ]
     },
     "execution_count": 74,
     "metadata": {},
     "output_type": "execute_result"
    }
   ],
   "source": [
    "invalid.loc[5, 'geometry'].geom_type"
   ]
  },
  {
   "cell_type": "code",
   "execution_count": 109,
   "id": "bce97850-d238-4368-85c0-9e2e23eda4da",
   "metadata": {},
   "outputs": [],
   "source": [
    "thing = invalid['geometry'].apply(lambda geom: geom.geom_type == 'Polygon').tolist()"
   ]
  },
  {
   "cell_type": "code",
   "execution_count": 110,
   "id": "05931abe-b628-4b13-a79e-e8c30592b3de",
   "metadata": {},
   "outputs": [],
   "source": [
    "# Trying the 'touch' option to use if I had to join polygons after polygonising using a windowed approach.\n",
    "up = '../../data/cerrado_1-250000_convex-hull/cerrado_1-250000_convex-hull_upper.shp'\n",
    "down = '../../data/cerrado_1-250000_convex-hull/cerrado_1-250000_convex-hull_lower.shp'\n",
    "\n",
    "up_pol = gpd.read_file(up)\n",
    "down_pol = gpd.read_file(down)"
   ]
  },
  {
   "cell_type": "code",
   "execution_count": 111,
   "id": "df384e22-3a4c-408f-8a15-006dab814e5f",
   "metadata": {},
   "outputs": [
    {
     "data": {
      "text/html": [
       "<div>\n",
       "<style scoped>\n",
       "    .dataframe tbody tr th:only-of-type {\n",
       "        vertical-align: middle;\n",
       "    }\n",
       "\n",
       "    .dataframe tbody tr th {\n",
       "        vertical-align: top;\n",
       "    }\n",
       "\n",
       "    .dataframe thead th {\n",
       "        text-align: right;\n",
       "    }\n",
       "</style>\n",
       "<table border=\"1\" class=\"dataframe\">\n",
       "  <thead>\n",
       "    <tr style=\"text-align: right;\">\n",
       "      <th></th>\n",
       "      <th>CD_Bioma</th>\n",
       "      <th>Bioma_EN</th>\n",
       "      <th>CD_LEGENDA</th>\n",
       "      <th>LEGENDA_EN</th>\n",
       "      <th>area</th>\n",
       "      <th>perimeter</th>\n",
       "      <th>geometry</th>\n",
       "    </tr>\n",
       "  </thead>\n",
       "  <tbody>\n",
       "    <tr>\n",
       "      <th>0</th>\n",
       "      <td>3</td>\n",
       "      <td>Cerrado</td>\n",
       "      <td>CERRADO</td>\n",
       "      <td>CERRADO</td>\n",
       "      <td>288.010603</td>\n",
       "      <td>65.870811</td>\n",
       "      <td>POLYGON ((-41.66072 -15.89298, -60.28302 -12.0...</td>\n",
       "    </tr>\n",
       "  </tbody>\n",
       "</table>\n",
       "</div>"
      ],
      "text/plain": [
       "   CD_Bioma Bioma_EN CD_LEGENDA LEGENDA_EN        area  perimeter  \\\n",
       "0         3  Cerrado    CERRADO    CERRADO  288.010603  65.870811   \n",
       "\n",
       "                                            geometry  \n",
       "0  POLYGON ((-41.66072 -15.89298, -60.28302 -12.0...  "
      ]
     },
     "execution_count": 111,
     "metadata": {},
     "output_type": "execute_result"
    }
   ],
   "source": [
    "up_pol"
   ]
  },
  {
   "cell_type": "code",
   "execution_count": 112,
   "id": "9b5872be-9ea5-4f6e-9dba-278112ceb607",
   "metadata": {},
   "outputs": [
    {
     "data": {
      "text/html": [
       "<div>\n",
       "<style scoped>\n",
       "    .dataframe tbody tr th:only-of-type {\n",
       "        vertical-align: middle;\n",
       "    }\n",
       "\n",
       "    .dataframe tbody tr th {\n",
       "        vertical-align: top;\n",
       "    }\n",
       "\n",
       "    .dataframe thead th {\n",
       "        text-align: right;\n",
       "    }\n",
       "</style>\n",
       "<table border=\"1\" class=\"dataframe\">\n",
       "  <thead>\n",
       "    <tr style=\"text-align: right;\">\n",
       "      <th></th>\n",
       "      <th>CD_Bioma</th>\n",
       "      <th>Bioma_EN</th>\n",
       "      <th>CD_LEGENDA</th>\n",
       "      <th>LEGENDA_EN</th>\n",
       "      <th>area</th>\n",
       "      <th>perimeter</th>\n",
       "      <th>geometry</th>\n",
       "    </tr>\n",
       "  </thead>\n",
       "  <tbody>\n",
       "    <tr>\n",
       "      <th>0</th>\n",
       "      <td>3</td>\n",
       "      <td>Cerrado</td>\n",
       "      <td>CERRADO</td>\n",
       "      <td>CERRADO</td>\n",
       "      <td>288.010603</td>\n",
       "      <td>65.870811</td>\n",
       "      <td>POLYGON ((-60.28302 -12.05442, -41.66072 -15.8...</td>\n",
       "    </tr>\n",
       "  </tbody>\n",
       "</table>\n",
       "</div>"
      ],
      "text/plain": [
       "   CD_Bioma Bioma_EN CD_LEGENDA LEGENDA_EN        area  perimeter  \\\n",
       "0         3  Cerrado    CERRADO    CERRADO  288.010603  65.870811   \n",
       "\n",
       "                                            geometry  \n",
       "0  POLYGON ((-60.28302 -12.05442, -41.66072 -15.8...  "
      ]
     },
     "execution_count": 112,
     "metadata": {},
     "output_type": "execute_result"
    }
   ],
   "source": [
    "down_pol"
   ]
  },
  {
   "cell_type": "code",
   "execution_count": 116,
   "id": "4802d1a2-8fcd-4782-a9bf-069cdaf95bd1",
   "metadata": {},
   "outputs": [
    {
     "data": {
      "text/html": [
       "<div>\n",
       "<style scoped>\n",
       "    .dataframe tbody tr th:only-of-type {\n",
       "        vertical-align: middle;\n",
       "    }\n",
       "\n",
       "    .dataframe tbody tr th {\n",
       "        vertical-align: top;\n",
       "    }\n",
       "\n",
       "    .dataframe thead th {\n",
       "        text-align: right;\n",
       "    }\n",
       "</style>\n",
       "<table border=\"1\" class=\"dataframe\">\n",
       "  <thead>\n",
       "    <tr style=\"text-align: right;\">\n",
       "      <th></th>\n",
       "      <th>CD_Bioma</th>\n",
       "      <th>Bioma_EN</th>\n",
       "      <th>CD_LEGENDA</th>\n",
       "      <th>LEGENDA_EN</th>\n",
       "      <th>area</th>\n",
       "      <th>perimeter</th>\n",
       "      <th>geometry</th>\n",
       "    </tr>\n",
       "  </thead>\n",
       "  <tbody>\n",
       "    <tr>\n",
       "      <th>0</th>\n",
       "      <td>3</td>\n",
       "      <td>Cerrado</td>\n",
       "      <td>CERRADO</td>\n",
       "      <td>CERRADO</td>\n",
       "      <td>288.010603</td>\n",
       "      <td>65.870811</td>\n",
       "      <td>POLYGON ((-41.66072 -15.89298, -60.28302 -12.0...</td>\n",
       "    </tr>\n",
       "    <tr>\n",
       "      <th>1</th>\n",
       "      <td>3</td>\n",
       "      <td>Cerrado</td>\n",
       "      <td>CERRADO</td>\n",
       "      <td>CERRADO</td>\n",
       "      <td>288.010603</td>\n",
       "      <td>65.870811</td>\n",
       "      <td>POLYGON ((-60.28302 -12.05442, -41.66072 -15.8...</td>\n",
       "    </tr>\n",
       "  </tbody>\n",
       "</table>\n",
       "</div>"
      ],
      "text/plain": [
       "   CD_Bioma Bioma_EN CD_LEGENDA LEGENDA_EN        area  perimeter  \\\n",
       "0         3  Cerrado    CERRADO    CERRADO  288.010603  65.870811   \n",
       "1         3  Cerrado    CERRADO    CERRADO  288.010603  65.870811   \n",
       "\n",
       "                                            geometry  \n",
       "0  POLYGON ((-41.66072 -15.89298, -60.28302 -12.0...  \n",
       "1  POLYGON ((-60.28302 -12.05442, -41.66072 -15.8...  "
      ]
     },
     "execution_count": 116,
     "metadata": {},
     "output_type": "execute_result"
    }
   ],
   "source": [
    "import pandas as pd\n",
    "cerrado = gpd.GeoDataFrame( pd.concat( [up_pol, down_pol], ignore_index=True) )\n",
    "cerrado"
   ]
  },
  {
   "cell_type": "code",
   "execution_count": 150,
   "id": "1b8431c0-7c29-4a7c-a066-70f34996f10b",
   "metadata": {},
   "outputs": [
    {
     "data": {
      "text/plain": [
       "True"
      ]
     },
     "execution_count": 150,
     "metadata": {},
     "output_type": "execute_result"
    }
   ],
   "source": [
    "cerrado.loc[0,'geometry'].touches(cerrado.loc[1, 'geometry'])"
   ]
  },
  {
   "cell_type": "code",
   "execution_count": 151,
   "id": "3ee177b3-ac33-4d01-8261-301ea47f78eb",
   "metadata": {},
   "outputs": [
    {
     "data": {
      "text/plain": [
       "True"
      ]
     },
     "execution_count": 151,
     "metadata": {},
     "output_type": "execute_result"
    }
   ],
   "source": [
    "cerrado.loc[0,'geometry'].intersects(cerrado.loc[1, 'geometry'])"
   ]
  },
  {
   "cell_type": "code",
   "execution_count": 149,
   "id": "83ec47a6-dc58-4bd6-964f-a95f79d28a65",
   "metadata": {},
   "outputs": [
    {
     "data": {
      "text/plain": [
       "False"
      ]
     },
     "execution_count": 149,
     "metadata": {},
     "output_type": "execute_result"
    }
   ],
   "source": [
    "cerrado.loc[0,'geometry'].crosses(cerrado.loc[1, 'geometry'])"
   ]
  },
  {
   "cell_type": "code",
   "execution_count": 118,
   "id": "a9264154-c400-4a8e-9739-f820049fb411",
   "metadata": {},
   "outputs": [],
   "source": [
    "cell01 = '../data_processed/solving_polygonise/cell01.shp'\n",
    "cell02 = '../data_processed/solving_polygonise/cell02.shp'\n",
    "\n",
    "cell01 = gpd.read_file(cell01)\n",
    "cell02 = gpd.read_file(cell02)"
   ]
  },
  {
   "cell_type": "code",
   "execution_count": 124,
   "id": "e6cda61f-e4d0-4f40-b9d5-7fdf1b7c1a47",
   "metadata": {},
   "outputs": [
    {
     "data": {
      "text/html": [
       "<div>\n",
       "<style scoped>\n",
       "    .dataframe tbody tr th:only-of-type {\n",
       "        vertical-align: middle;\n",
       "    }\n",
       "\n",
       "    .dataframe tbody tr th {\n",
       "        vertical-align: top;\n",
       "    }\n",
       "\n",
       "    .dataframe thead th {\n",
       "        text-align: right;\n",
       "    }\n",
       "</style>\n",
       "<table border=\"1\" class=\"dataframe\">\n",
       "  <thead>\n",
       "    <tr style=\"text-align: right;\">\n",
       "      <th></th>\n",
       "      <th>id</th>\n",
       "      <th>left</th>\n",
       "      <th>top</th>\n",
       "      <th>right</th>\n",
       "      <th>bottom</th>\n",
       "      <th>geometry</th>\n",
       "    </tr>\n",
       "  </thead>\n",
       "  <tbody>\n",
       "    <tr>\n",
       "      <th>0</th>\n",
       "      <td>885.0</td>\n",
       "      <td>4.998491e+06</td>\n",
       "      <td>8.784278e+06</td>\n",
       "      <td>5.048491e+06</td>\n",
       "      <td>8.734278e+06</td>\n",
       "      <td>POLYGON ((4998491.269 8784278.451, 5048491.269...</td>\n",
       "    </tr>\n",
       "  </tbody>\n",
       "</table>\n",
       "</div>"
      ],
      "text/plain": [
       "      id          left           top         right        bottom  \\\n",
       "0  885.0  4.998491e+06  8.784278e+06  5.048491e+06  8.734278e+06   \n",
       "\n",
       "                                            geometry  \n",
       "0  POLYGON ((4998491.269 8784278.451, 5048491.269...  "
      ]
     },
     "execution_count": 124,
     "metadata": {},
     "output_type": "execute_result"
    }
   ],
   "source": [
    "cell02"
   ]
  },
  {
   "cell_type": "code",
   "execution_count": 143,
   "id": "306b87c5-2f65-4689-858a-4feae3e47312",
   "metadata": {},
   "outputs": [
    {
     "data": {
      "text/plain": [
       "True"
      ]
     },
     "execution_count": 143,
     "metadata": {},
     "output_type": "execute_result"
    }
   ],
   "source": [
    "cell01.loc[0,'geometry'].touches(cell02.loc[0, 'geometry'])"
   ]
  },
  {
   "cell_type": "code",
   "execution_count": 144,
   "id": "d6b52aa4-0225-4f6e-a039-287525e8cb54",
   "metadata": {},
   "outputs": [
    {
     "data": {
      "text/plain": [
       "True"
      ]
     },
     "execution_count": 144,
     "metadata": {},
     "output_type": "execute_result"
    }
   ],
   "source": [
    "cell01.loc[0,'geometry'].intersects(cell02.loc[0, 'geometry'])"
   ]
  },
  {
   "cell_type": "code",
   "execution_count": 123,
   "id": "b1e87c1d-9fc8-4803-a096-9307809ac0dc",
   "metadata": {},
   "outputs": [
    {
     "name": "stdout",
     "output_type": "stream",
     "text": [
      "POLYGON ((4948491.268890875 8834278.451484475, 4998491.268890875 8834278.451484475, 4998491.268890875 8784278.451484475, 4948491.268890875 8784278.451484475, 4948491.268890875 8834278.451484475)) POLYGON ((4998491.268890875 8784278.451484475, 5048491.268890875 8784278.451484475, 5048491.268890875 8734278.451484475, 4998491.268890875 8734278.451484475, 4998491.268890875 8784278.451484475))\n"
     ]
    }
   ],
   "source": [
    "print(cell01.loc[0,'geometry'], cell02.loc[0, 'geometry'])"
   ]
  },
  {
   "cell_type": "code",
   "execution_count": 125,
   "id": "9b88cb1e-94b4-486b-a0e9-126f25f8562e",
   "metadata": {},
   "outputs": [
    {
     "data": {
      "text/html": [
       "<div>\n",
       "<style scoped>\n",
       "    .dataframe tbody tr th:only-of-type {\n",
       "        vertical-align: middle;\n",
       "    }\n",
       "\n",
       "    .dataframe tbody tr th {\n",
       "        vertical-align: top;\n",
       "    }\n",
       "\n",
       "    .dataframe thead th {\n",
       "        text-align: right;\n",
       "    }\n",
       "</style>\n",
       "<table border=\"1\" class=\"dataframe\">\n",
       "  <thead>\n",
       "    <tr style=\"text-align: right;\">\n",
       "      <th></th>\n",
       "      <th>id</th>\n",
       "      <th>left</th>\n",
       "      <th>top</th>\n",
       "      <th>right</th>\n",
       "      <th>bottom</th>\n",
       "      <th>geometry</th>\n",
       "      <th>dissolve</th>\n",
       "    </tr>\n",
       "  </thead>\n",
       "  <tbody>\n",
       "    <tr>\n",
       "      <th>0</th>\n",
       "      <td>830.0</td>\n",
       "      <td>4.948491e+06</td>\n",
       "      <td>8.834278e+06</td>\n",
       "      <td>4.998491e+06</td>\n",
       "      <td>8.784278e+06</td>\n",
       "      <td>POLYGON ((4948491.269 8834278.451, 4998491.269...</td>\n",
       "      <td>34</td>\n",
       "    </tr>\n",
       "    <tr>\n",
       "      <th>1</th>\n",
       "      <td>885.0</td>\n",
       "      <td>4.998491e+06</td>\n",
       "      <td>8.784278e+06</td>\n",
       "      <td>5.048491e+06</td>\n",
       "      <td>8.734278e+06</td>\n",
       "      <td>POLYGON ((4998491.269 8784278.451, 5048491.269...</td>\n",
       "      <td>34</td>\n",
       "    </tr>\n",
       "  </tbody>\n",
       "</table>\n",
       "</div>"
      ],
      "text/plain": [
       "      id          left           top         right        bottom  \\\n",
       "0  830.0  4.948491e+06  8.834278e+06  4.998491e+06  8.784278e+06   \n",
       "1  885.0  4.998491e+06  8.784278e+06  5.048491e+06  8.734278e+06   \n",
       "\n",
       "                                            geometry  dissolve  \n",
       "0  POLYGON ((4948491.269 8834278.451, 4998491.269...        34  \n",
       "1  POLYGON ((4998491.269 8784278.451, 5048491.269...        34  "
      ]
     },
     "execution_count": 125,
     "metadata": {},
     "output_type": "execute_result"
    }
   ],
   "source": [
    "# Can I disolve these two polygons into one?\n",
    "cells = gpd.GeoDataFrame( pd.concat( [cell01, cell02], ignore_index=True) )\n",
    "cells['dissolve'] = 34\n",
    "cells"
   ]
  },
  {
   "cell_type": "code",
   "execution_count": 134,
   "id": "d34ebdaa-388c-4a32-94f1-af3817f49acd",
   "metadata": {},
   "outputs": [
    {
     "data": {
      "text/html": [
       "<div>\n",
       "<style scoped>\n",
       "    .dataframe tbody tr th:only-of-type {\n",
       "        vertical-align: middle;\n",
       "    }\n",
       "\n",
       "    .dataframe tbody tr th {\n",
       "        vertical-align: top;\n",
       "    }\n",
       "\n",
       "    .dataframe thead th {\n",
       "        text-align: right;\n",
       "    }\n",
       "</style>\n",
       "<table border=\"1\" class=\"dataframe\">\n",
       "  <thead>\n",
       "    <tr style=\"text-align: right;\">\n",
       "      <th></th>\n",
       "      <th>geometry</th>\n",
       "      <th>id</th>\n",
       "      <th>left</th>\n",
       "      <th>top</th>\n",
       "      <th>right</th>\n",
       "      <th>bottom</th>\n",
       "    </tr>\n",
       "  </thead>\n",
       "  <tbody>\n",
       "    <tr>\n",
       "      <th>0</th>\n",
       "      <td>MULTIPOLYGON (((5048491.269 8784278.451, 50484...</td>\n",
       "      <td>830.0</td>\n",
       "      <td>4.948491e+06</td>\n",
       "      <td>8.834278e+06</td>\n",
       "      <td>4.998491e+06</td>\n",
       "      <td>8.784278e+06</td>\n",
       "    </tr>\n",
       "  </tbody>\n",
       "</table>\n",
       "</div>"
      ],
      "text/plain": [
       "                                            geometry     id          left  \\\n",
       "0  MULTIPOLYGON (((5048491.269 8784278.451, 50484...  830.0  4.948491e+06   \n",
       "\n",
       "            top         right        bottom  \n",
       "0  8.834278e+06  4.998491e+06  8.784278e+06  "
      ]
     },
     "execution_count": 134,
     "metadata": {},
     "output_type": "execute_result"
    }
   ],
   "source": [
    "dissolved = cells.dissolve(by='dissolve').reset_index(drop=True)\n",
    "dissolved"
   ]
  },
  {
   "cell_type": "code",
   "execution_count": 136,
   "id": "ee9bf57e-c9f2-4ab0-abdb-375967081e49",
   "metadata": {},
   "outputs": [
    {
     "data": {
      "image/svg+xml": [
       "<svg xmlns=\"http://www.w3.org/2000/svg\" xmlns:xlink=\"http://www.w3.org/1999/xlink\" width=\"300\" height=\"300\" viewBox=\"4944491.268890875 8730278.451484475 108000.0 108000.0\" preserveAspectRatio=\"xMinYMin meet\"><g transform=\"matrix(1,0,0,-1,0,17568556.90296895)\"><g><path fill-rule=\"evenodd\" fill=\"#66cc99\" stroke=\"#555555\" stroke-width=\"720.0\" opacity=\"0.6\" d=\"M 5048491.268890875,8784278.451484475 L 5048491.268890875,8734278.451484475 L 4998491.268890875,8734278.451484475 L 4998491.268890875,8784278.451484475 L 5048491.268890875,8784278.451484475 z\" /><path fill-rule=\"evenodd\" fill=\"#66cc99\" stroke=\"#555555\" stroke-width=\"720.0\" opacity=\"0.6\" d=\"M 4998491.268890875,8834278.451484475 L 4998491.268890875,8784278.451484475 L 4948491.268890875,8784278.451484475 L 4948491.268890875,8834278.451484475 L 4998491.268890875,8834278.451484475 z\" /></g></g></svg>"
      ],
      "text/plain": [
       "<shapely.geometry.multipolygon.MultiPolygon at 0x14cbc500eb0>"
      ]
     },
     "execution_count": 136,
     "metadata": {},
     "output_type": "execute_result"
    }
   ],
   "source": [
    "dissolved.loc[0, 'geometry']"
   ]
  },
  {
   "cell_type": "code",
   "execution_count": 137,
   "id": "b04ec732-2aec-4a00-9d0d-b90499e53448",
   "metadata": {},
   "outputs": [],
   "source": [
    "# Another way to get to the same result\n",
    "from shapely.ops import unary_union"
   ]
  },
  {
   "cell_type": "code",
   "execution_count": 141,
   "id": "a630a6fe-78d0-4ffb-8561-3133a5d646b6",
   "metadata": {},
   "outputs": [
    {
     "data": {
      "image/svg+xml": [
       "<svg xmlns=\"http://www.w3.org/2000/svg\" xmlns:xlink=\"http://www.w3.org/1999/xlink\" width=\"300\" height=\"300\" viewBox=\"4944491.268890875 8730278.451484475 108000.0 108000.0\" preserveAspectRatio=\"xMinYMin meet\"><g transform=\"matrix(1,0,0,-1,0,17568556.90296895)\"><g><path fill-rule=\"evenodd\" fill=\"#66cc99\" stroke=\"#555555\" stroke-width=\"720.0\" opacity=\"0.6\" d=\"M 5048491.268890875,8784278.451484475 L 5048491.268890875,8734278.451484475 L 4998491.268890875,8734278.451484475 L 4998491.268890875,8784278.451484475 L 5048491.268890875,8784278.451484475 z\" /><path fill-rule=\"evenodd\" fill=\"#66cc99\" stroke=\"#555555\" stroke-width=\"720.0\" opacity=\"0.6\" d=\"M 4998491.268890875,8834278.451484475 L 4998491.268890875,8784278.451484475 L 4948491.268890875,8784278.451484475 L 4948491.268890875,8834278.451484475 L 4998491.268890875,8834278.451484475 z\" /></g></g></svg>"
      ],
      "text/plain": [
       "<shapely.geometry.multipolygon.MultiPolygon at 0x14cbbb9eb20>"
      ]
     },
     "execution_count": 141,
     "metadata": {},
     "output_type": "execute_result"
    }
   ],
   "source": [
    "unary_union([cells.loc[0, 'geometry'], cells.loc[1, 'geometry']])"
   ]
  },
  {
   "cell_type": "code",
   "execution_count": 142,
   "id": "077721ce-cb53-4357-9632-4fa70b409754",
   "metadata": {},
   "outputs": [
    {
     "data": {
      "text/plain": [
       "True"
      ]
     },
     "execution_count": 142,
     "metadata": {},
     "output_type": "execute_result"
    }
   ],
   "source": [
    "cells.loc[0, 'geometry'].intersects(cells.loc[1, 'geometry'])"
   ]
  },
  {
   "cell_type": "code",
   "execution_count": 145,
   "id": "8a8a58e1-2196-4397-bded-2e4a960dcc18",
   "metadata": {},
   "outputs": [
    {
     "ename": "TypeError",
     "evalue": "'gdf' should be GeoDataFrame or GeoSeries, got <class 'shapely.geometry.polygon.Polygon'>",
     "output_type": "error",
     "traceback": [
      "\u001b[1;31m---------------------------------------------------------------------------\u001b[0m",
      "\u001b[1;31mTypeError\u001b[0m                                 Traceback (most recent call last)",
      "\u001b[1;32m<ipython-input-145-53b5c887dd5b>\u001b[0m in \u001b[0;36m<module>\u001b[1;34m\u001b[0m\n\u001b[1;32m----> 1\u001b[1;33m \u001b[0mgpd\u001b[0m\u001b[1;33m.\u001b[0m\u001b[0mclip\u001b[0m\u001b[1;33m(\u001b[0m\u001b[0mcells\u001b[0m\u001b[1;33m.\u001b[0m\u001b[0mloc\u001b[0m\u001b[1;33m[\u001b[0m\u001b[1;36m0\u001b[0m\u001b[1;33m,\u001b[0m \u001b[1;34m'geometry'\u001b[0m\u001b[1;33m]\u001b[0m\u001b[1;33m,\u001b[0m \u001b[0mcells\u001b[0m\u001b[1;33m.\u001b[0m\u001b[0mloc\u001b[0m\u001b[1;33m[\u001b[0m\u001b[1;36m1\u001b[0m\u001b[1;33m,\u001b[0m \u001b[1;34m'geometry'\u001b[0m\u001b[1;33m]\u001b[0m\u001b[1;33m)\u001b[0m\u001b[1;33m\u001b[0m\u001b[1;33m\u001b[0m\u001b[0m\n\u001b[0m",
      "\u001b[1;32m~\\.conda\\envs\\geo_env\\lib\\site-packages\\geopandas\\tools\\clip.py\u001b[0m in \u001b[0;36mclip\u001b[1;34m(gdf, mask, keep_geom_type)\u001b[0m\n\u001b[0;32m    120\u001b[0m     \"\"\"\n\u001b[0;32m    121\u001b[0m     \u001b[1;32mif\u001b[0m \u001b[1;32mnot\u001b[0m \u001b[0misinstance\u001b[0m\u001b[1;33m(\u001b[0m\u001b[0mgdf\u001b[0m\u001b[1;33m,\u001b[0m \u001b[1;33m(\u001b[0m\u001b[0mGeoDataFrame\u001b[0m\u001b[1;33m,\u001b[0m \u001b[0mGeoSeries\u001b[0m\u001b[1;33m)\u001b[0m\u001b[1;33m)\u001b[0m\u001b[1;33m:\u001b[0m\u001b[1;33m\u001b[0m\u001b[1;33m\u001b[0m\u001b[0m\n\u001b[1;32m--> 122\u001b[1;33m         raise TypeError(\n\u001b[0m\u001b[0;32m    123\u001b[0m             \u001b[1;34m\"'gdf' should be GeoDataFrame or GeoSeries, got {}\"\u001b[0m\u001b[1;33m.\u001b[0m\u001b[0mformat\u001b[0m\u001b[1;33m(\u001b[0m\u001b[0mtype\u001b[0m\u001b[1;33m(\u001b[0m\u001b[0mgdf\u001b[0m\u001b[1;33m)\u001b[0m\u001b[1;33m)\u001b[0m\u001b[1;33m\u001b[0m\u001b[1;33m\u001b[0m\u001b[0m\n\u001b[0;32m    124\u001b[0m         )\n",
      "\u001b[1;31mTypeError\u001b[0m: 'gdf' should be GeoDataFrame or GeoSeries, got <class 'shapely.geometry.polygon.Polygon'>"
     ]
    }
   ],
   "source": [
    "gpd.clip(cells.loc[0, 'geometry'], cells.loc[1, 'geometry'])"
   ]
  },
  {
   "cell_type": "code",
   "execution_count": 148,
   "id": "40dd144a-1a6d-4d5b-89bd-8d5dc93be4b2",
   "metadata": {},
   "outputs": [
    {
     "data": {
      "text/plain": [
       "False"
      ]
     },
     "execution_count": 148,
     "metadata": {},
     "output_type": "execute_result"
    }
   ],
   "source": [
    "cells.loc[0, 'geometry'].crosses(cells.loc[1, 'geometry'])"
   ]
  },
  {
   "cell_type": "markdown",
   "id": "f674edad-8897-41d8-a3e8-fbbdbf179e8e",
   "metadata": {},
   "source": [
    "#### Checking crosses matrix algorithm"
   ]
  },
  {
   "cell_type": "code",
   "execution_count": 186,
   "id": "6f01023d-c8e1-49b9-996d-35d8906059da",
   "metadata": {},
   "outputs": [],
   "source": [
    "# REad the polygons\n",
    "polygons = gpd.read_file(out_dir)"
   ]
  },
  {
   "cell_type": "code",
   "execution_count": 187,
   "id": "5819fac1-a7c8-40d6-a50e-722b32980bb1",
   "metadata": {},
   "outputs": [
    {
     "data": {
      "text/html": [
       "<div>\n",
       "<style scoped>\n",
       "    .dataframe tbody tr th:only-of-type {\n",
       "        vertical-align: middle;\n",
       "    }\n",
       "\n",
       "    .dataframe tbody tr th {\n",
       "        vertical-align: top;\n",
       "    }\n",
       "\n",
       "    .dataframe thead th {\n",
       "        text-align: right;\n",
       "    }\n",
       "</style>\n",
       "<table border=\"1\" class=\"dataframe\">\n",
       "  <thead>\n",
       "    <tr style=\"text-align: right;\">\n",
       "      <th></th>\n",
       "      <th>raster_val</th>\n",
       "      <th>geometry</th>\n",
       "    </tr>\n",
       "  </thead>\n",
       "  <tbody>\n",
       "    <tr>\n",
       "      <th>0</th>\n",
       "      <td>9</td>\n",
       "      <td>POLYGON ((-51.99224 -14.41958, -51.99197 -14.4...</td>\n",
       "    </tr>\n",
       "    <tr>\n",
       "      <th>1</th>\n",
       "      <td>10</td>\n",
       "      <td>POLYGON ((-51.99090 -14.41958, -51.99063 -14.4...</td>\n",
       "    </tr>\n",
       "    <tr>\n",
       "      <th>2</th>\n",
       "      <td>9</td>\n",
       "      <td>POLYGON ((-51.98254 -14.41958, -51.98227 -14.4...</td>\n",
       "    </tr>\n",
       "    <tr>\n",
       "      <th>3</th>\n",
       "      <td>9</td>\n",
       "      <td>POLYGON ((-51.97877 -14.41958, -51.97850 -14.4...</td>\n",
       "    </tr>\n",
       "    <tr>\n",
       "      <th>4</th>\n",
       "      <td>10</td>\n",
       "      <td>POLYGON ((-51.97769 -14.41958, -51.97742 -14.4...</td>\n",
       "    </tr>\n",
       "  </tbody>\n",
       "</table>\n",
       "</div>"
      ],
      "text/plain": [
       "   raster_val                                           geometry\n",
       "0           9  POLYGON ((-51.99224 -14.41958, -51.99197 -14.4...\n",
       "1          10  POLYGON ((-51.99090 -14.41958, -51.99063 -14.4...\n",
       "2           9  POLYGON ((-51.98254 -14.41958, -51.98227 -14.4...\n",
       "3           9  POLYGON ((-51.97877 -14.41958, -51.97850 -14.4...\n",
       "4          10  POLYGON ((-51.97769 -14.41958, -51.97742 -14.4..."
      ]
     },
     "execution_count": 187,
     "metadata": {},
     "output_type": "execute_result"
    }
   ],
   "source": [
    "polygons.head()"
   ]
  },
  {
   "cell_type": "code",
   "execution_count": 188,
   "id": "f3d4bf92-4137-4a16-833d-cf0eed369c67",
   "metadata": {},
   "outputs": [
    {
     "name": "stdout",
     "output_type": "stream",
     "text": [
      "12425\n",
      "2345\n"
     ]
    }
   ],
   "source": [
    "# Check if there are invalid polygons\n",
    "print(polygons.shape[0])\n",
    "print(polygons.loc[ ~polygons['geometry'].is_valid, :].shape[0])"
   ]
  },
  {
   "cell_type": "code",
   "execution_count": 184,
   "id": "b95ed96a-8fca-43be-851b-634f6071b8bb",
   "metadata": {},
   "outputs": [
    {
     "name": "stdout",
     "output_type": "stream",
     "text": [
      "1762\n"
     ]
    }
   ],
   "source": [
    "# There are, so apply unary union to resolve\n",
    "polygons['geometry'] = polygons['geometry'].apply(lambda geo: unary_union(geo))\n",
    "print(polygons.loc[ ~polygons['geometry'].is_valid, :].shape[0])"
   ]
  },
  {
   "cell_type": "code",
   "execution_count": 190,
   "id": "7eb1054d-7793-4a0b-afe3-670f0ae210c0",
   "metadata": {},
   "outputs": [
    {
     "name": "stdout",
     "output_type": "stream",
     "text": [
      "0\n"
     ]
    }
   ],
   "source": [
    "# There are, so apply buffer to resolve\n",
    "polygons['geometry'] = polygons['geometry'].apply(lambda geo: geo.buffer(0))\n",
    "print(polygons.loc[ ~polygons['geometry'].is_valid, :].shape[0])"
   ]
  },
  {
   "cell_type": "code",
   "execution_count": 193,
   "id": "274683d0-c180-476d-98c0-4b81fc927958",
   "metadata": {},
   "outputs": [
    {
     "name": "stdout",
     "output_type": "stream",
     "text": [
      "Elapsed time is 828.531627 seconds.\n"
     ]
    }
   ],
   "source": [
    "# Check if any polygons cross one another\n",
    "# Create matrix of crosses\n",
    "from pytictoc import TicToc\n",
    "t = TicToc()\n",
    "t.tic()\n",
    "crosses_matrix = polygons['geometry'].apply(lambda x: polygons['geometry'].crosses(x)).values.astype(int)\n",
    "t.toc()"
   ]
  },
  {
   "cell_type": "code",
   "execution_count": 194,
   "id": "f6fa649c-c575-4995-99f6-8143a83b2594",
   "metadata": {},
   "outputs": [
    {
     "name": "stdout",
     "output_type": "stream",
     "text": [
      "0\n",
      "Elapsed time is 0.064067 seconds.\n"
     ]
    }
   ],
   "source": [
    "t.tic()\n",
    "print(np.sum(crosses_matrix))\n",
    "t.toc()"
   ]
  },
  {
   "cell_type": "markdown",
   "id": "3927830c-af77-42dd-a778-0e7b7d2031b2",
   "metadata": {},
   "source": [
    "## Polygonise issue with a larger cell (cell 03)"
   ]
  },
  {
   "cell_type": "code",
   "execution_count": 172,
   "id": "129f411d-0535-48ca-a214-4818d7885889",
   "metadata": {},
   "outputs": [],
   "source": [
    "import sys\n",
    "sys.path.append('../')\n",
    "import MBfogo_raster_to_polygon as pol"
   ]
  },
  {
   "cell_type": "code",
   "execution_count": 174,
   "id": "81417ebe-5fc9-4690-8ad0-656f844d5c3b",
   "metadata": {},
   "outputs": [],
   "source": [
    "fp = '../data/MBfogo_c10_test-cell03_2019.tif'\n",
    "out_dir = '../data_processed/MBfogo_c10_polygons/MBfogo_c10_test-cell03_polygons_2019.shp'"
   ]
  },
  {
   "cell_type": "code",
   "execution_count": 175,
   "id": "90c084ff-2fd3-43a4-830c-cb2e99bbf73a",
   "metadata": {},
   "outputs": [
    {
     "name": "stdout",
     "output_type": "stream",
     "text": [
      "The autoreload extension is already loaded. To reload it, use:\n",
      "  %reload_ext autoreload\n",
      "Reading raster file\n",
      "Polygonising raster.\n",
      "Filtering selected raster value polygons.\n",
      "Saving file MBfogo_c10_test-cell03_polygons_2019.shp\n"
     ]
    }
   ],
   "source": [
    "%load_ext autoreload\n",
    "%autoreload 2\n",
    "pol.raster_to_polygon(fp, out_dir, list(range(1, 12 + 1)), connectivity = 8)"
   ]
  },
  {
   "cell_type": "markdown",
   "id": "be1c06c0-5b97-453b-adb0-133f842a8a5d",
   "metadata": {},
   "source": [
    "## Windowed operation\n",
    "The algorithm seems to have worked fine in a grid of 60 km, which 2000 pixels. Let's perhaps use this grid size?"
   ]
  },
  {
   "cell_type": "code",
   "execution_count": 158,
   "id": "b110f0c1-4efb-4d6a-9147-5a9c67d9f612",
   "metadata": {},
   "outputs": [],
   "source": [
    "cell_size = 2000"
   ]
  },
  {
   "cell_type": "code",
   "execution_count": 161,
   "id": "b8ba64a5-23a6-4821-a32a-993a80ebaf8a",
   "metadata": {},
   "outputs": [
    {
     "name": "stdout",
     "output_type": "stream",
     "text": [
      "35\n",
      "1227\n"
     ]
    }
   ],
   "source": [
    "# This cell size implies a number of cells in the horizontal direction:\n",
    "print(int(width / cell_size))\n",
    "print(width % cell_size)"
   ]
  },
  {
   "cell_type": "code",
   "execution_count": 163,
   "id": "946d0af7-5936-4ec5-8625-63992fd36376",
   "metadata": {},
   "outputs": [
    {
     "data": {
      "text/plain": [
       "True"
      ]
     },
     "execution_count": 163,
     "metadata": {},
     "output_type": "execute_result"
    }
   ],
   "source": [
    "35 * cell_size + 1227 == width"
   ]
  },
  {
   "cell_type": "code",
   "execution_count": 164,
   "id": "21f34580-5c84-4854-bad7-1338357021b8",
   "metadata": {},
   "outputs": [
    {
     "name": "stdout",
     "output_type": "stream",
     "text": [
      "41\n",
      "933\n"
     ]
    }
   ],
   "source": [
    "# And in the vertical direction\n",
    "print(int(height / cell_size))\n",
    "print(height % cell_size)"
   ]
  },
  {
   "cell_type": "code",
   "execution_count": 168,
   "id": "4682f5d0-d3c7-4b3a-bc8b-c9734b6ac9af",
   "metadata": {},
   "outputs": [
    {
     "data": {
      "text/plain": [
       "1435"
      ]
     },
     "execution_count": 168,
     "metadata": {},
     "output_type": "execute_result"
    }
   ],
   "source": [
    "# This implies a total number of cells \n",
    "35 * 41"
   ]
  },
  {
   "cell_type": "code",
   "execution_count": 165,
   "id": "aac529c3-c79c-4511-b9b2-6ff62234cca8",
   "metadata": {},
   "outputs": [],
   "source": [
    "# Taking into acount that a large number of these cells will be fully empty (all zeros)\n",
    "empty_area_m2 = 1356516532689.186 + 418622030914.650 + 251164439497.030"
   ]
  },
  {
   "cell_type": "code",
   "execution_count": 166,
   "id": "7a06474a-c28b-4e71-8df5-6220b346769f",
   "metadata": {},
   "outputs": [],
   "source": [
    "cell_size_m2 = 60000*60000"
   ]
  },
  {
   "cell_type": "code",
   "execution_count": 167,
   "id": "e85e43b8-8557-4cf3-9234-99a95ef4123e",
   "metadata": {},
   "outputs": [
    {
     "data": {
      "text/plain": [
       "562.8619453057961"
      ]
     },
     "execution_count": 167,
     "metadata": {},
     "output_type": "execute_result"
    }
   ],
   "source": [
    "empty_area_m2 / cell_size_m2"
   ]
  },
  {
   "cell_type": "code",
   "execution_count": 170,
   "id": "f1d7a9e1-f023-4a7b-9d1b-add53449e63c",
   "metadata": {},
   "outputs": [
    {
     "data": {
      "text/plain": [
       "875"
      ]
     },
     "execution_count": 170,
     "metadata": {},
     "output_type": "execute_result"
    }
   ],
   "source": [
    "# Hence, in the end I will operate on about a number of cells:\n",
    "35 * 41 - 560"
   ]
  },
  {
   "cell_type": "code",
   "execution_count": 171,
   "id": "62906ea6-917c-4f21-99d5-2bb02fbabf8e",
   "metadata": {},
   "outputs": [
    {
     "data": {
      "text/plain": [
       "43.75"
      ]
     },
     "execution_count": 171,
     "metadata": {},
     "output_type": "execute_result"
    }
   ],
   "source": [
    "# Using 20 workers \n",
    "875/20"
   ]
  },
  {
   "cell_type": "code",
   "execution_count": null,
   "id": "5fb257a8-cefd-4134-9b11-627b3709c626",
   "metadata": {},
   "outputs": [],
   "source": []
  }
 ],
 "metadata": {
  "kernelspec": {
   "display_name": "geo_env",
   "language": "python",
   "name": "geo_env"
  },
  "language_info": {
   "codemirror_mode": {
    "name": "ipython",
    "version": 3
   },
   "file_extension": ".py",
   "mimetype": "text/x-python",
   "name": "python",
   "nbconvert_exporter": "python",
   "pygments_lexer": "ipython3",
   "version": "3.9.2"
  }
 },
 "nbformat": 4,
 "nbformat_minor": 5
}
