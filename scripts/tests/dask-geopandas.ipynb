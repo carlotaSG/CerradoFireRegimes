{
 "cells": [
  {
   "cell_type": "code",
   "execution_count": 1,
   "id": "27c70f84-8e44-4d2b-85eb-a3d4f3594c66",
   "metadata": {},
   "outputs": [],
   "source": [
    "import pandas as pd\n",
    "import geopandas as gpd\n",
    "import dask_geopandas as dgpd\n",
    "from scipy.sparse.csgraph import connected_components\n",
    "from scipy.sparse import csr_matrix\n",
    "import numpy as np"
   ]
  },
  {
   "cell_type": "code",
   "execution_count": 2,
   "id": "bb5a7a25-289f-496a-ba37-5c52a260f127",
   "metadata": {},
   "outputs": [],
   "source": [
    "from pytictoc import TicToc\n",
    "t = TicToc()"
   ]
  },
  {
   "cell_type": "code",
   "execution_count": 3,
   "id": "b43e859b-f4bd-4747-9c94-b6eb2b573793",
   "metadata": {},
   "outputs": [],
   "source": [
    "pols = gpd.read_file('../../data/tests/fire_polygons/individual/MBfogo_c10_cerrado_polygons_2000.shp')"
   ]
  },
  {
   "cell_type": "code",
   "execution_count": 4,
   "id": "dc5b1ae0-4dd9-4c63-a2af-5fff69553ed1",
   "metadata": {},
   "outputs": [
    {
     "data": {
      "text/html": [
       "<div>\n",
       "<style scoped>\n",
       "    .dataframe tbody tr th:only-of-type {\n",
       "        vertical-align: middle;\n",
       "    }\n",
       "\n",
       "    .dataframe tbody tr th {\n",
       "        vertical-align: top;\n",
       "    }\n",
       "\n",
       "    .dataframe thead th {\n",
       "        text-align: right;\n",
       "    }\n",
       "</style>\n",
       "<table border=\"1\" class=\"dataframe\">\n",
       "  <thead>\n",
       "    <tr style=\"text-align: right;\">\n",
       "      <th></th>\n",
       "      <th>ID</th>\n",
       "      <th>year</th>\n",
       "      <th>month</th>\n",
       "      <th>geometry</th>\n",
       "    </tr>\n",
       "  </thead>\n",
       "  <tbody>\n",
       "    <tr>\n",
       "      <th>0</th>\n",
       "      <td>200001_001724</td>\n",
       "      <td>2000</td>\n",
       "      <td>1</td>\n",
       "      <td>MULTIPOLYGON (((-48.88955 -16.08236, -48.88955...</td>\n",
       "    </tr>\n",
       "    <tr>\n",
       "      <th>1</th>\n",
       "      <td>200001_001725</td>\n",
       "      <td>2000</td>\n",
       "      <td>1</td>\n",
       "      <td>MULTIPOLYGON (((-48.90410 -16.08532, -48.90410...</td>\n",
       "    </tr>\n",
       "    <tr>\n",
       "      <th>2</th>\n",
       "      <td>200001_001726</td>\n",
       "      <td>2000</td>\n",
       "      <td>1</td>\n",
       "      <td>POLYGON ((-48.88874 -16.08451, -48.88820 -16.0...</td>\n",
       "    </tr>\n",
       "    <tr>\n",
       "      <th>3</th>\n",
       "      <td>200001_001727</td>\n",
       "      <td>2000</td>\n",
       "      <td>1</td>\n",
       "      <td>POLYGON ((-48.89036 -16.08586, -48.88982 -16.0...</td>\n",
       "    </tr>\n",
       "    <tr>\n",
       "      <th>4</th>\n",
       "      <td>200001_001728</td>\n",
       "      <td>2000</td>\n",
       "      <td>1</td>\n",
       "      <td>MULTIPOLYGON (((-48.89090 -16.08829, -48.89063...</td>\n",
       "    </tr>\n",
       "  </tbody>\n",
       "</table>\n",
       "</div>"
      ],
      "text/plain": [
       "              ID  year  month  \\\n",
       "0  200001_001724  2000      1   \n",
       "1  200001_001725  2000      1   \n",
       "2  200001_001726  2000      1   \n",
       "3  200001_001727  2000      1   \n",
       "4  200001_001728  2000      1   \n",
       "\n",
       "                                            geometry  \n",
       "0  MULTIPOLYGON (((-48.88955 -16.08236, -48.88955...  \n",
       "1  MULTIPOLYGON (((-48.90410 -16.08532, -48.90410...  \n",
       "2  POLYGON ((-48.88874 -16.08451, -48.88820 -16.0...  \n",
       "3  POLYGON ((-48.89036 -16.08586, -48.88982 -16.0...  \n",
       "4  MULTIPOLYGON (((-48.89090 -16.08829, -48.89063...  "
      ]
     },
     "execution_count": 4,
     "metadata": {},
     "output_type": "execute_result"
    }
   ],
   "source": [
    "pols.head()"
   ]
  },
  {
   "cell_type": "code",
   "execution_count": 5,
   "id": "ed0f9520-3a34-4819-b3da-653d7532d344",
   "metadata": {},
   "outputs": [
    {
     "data": {
      "text/plain": [
       "array([ 1,  2,  3,  4,  5,  6,  7,  8,  9, 10, 11, 12], dtype=int64)"
      ]
     },
     "execution_count": 5,
     "metadata": {},
     "output_type": "execute_result"
    }
   ],
   "source": [
    "pols['month'].unique()"
   ]
  },
  {
   "cell_type": "code",
   "execution_count": 9,
   "id": "01a95efc-fed3-4399-8af5-add7616377ca",
   "metadata": {},
   "outputs": [],
   "source": [
    "pols_ddf = dgpd.from_geopandas(\n",
    "    pols,\n",
    "    npartitions=12\n",
    ")"
   ]
  },
  {
   "cell_type": "markdown",
   "id": "aa682c56-62d4-494d-9e57-7e03ff27ddb6",
   "metadata": {},
   "source": [
    "### Briefly checking buffer"
   ]
  },
  {
   "cell_type": "code",
   "execution_count": 14,
   "id": "0eabadbd-89c9-466f-8a61-4468c24ff038",
   "metadata": {},
   "outputs": [],
   "source": [
    "pols = pols.to_crs('epsg:5880')"
   ]
  },
  {
   "cell_type": "code",
   "execution_count": 59,
   "id": "46686e66-ec7d-4bb0-816d-22253f5cdd59",
   "metadata": {},
   "outputs": [],
   "source": [
    "pols_ddf = dgpd.from_geopandas(\n",
    "    pols,\n",
    "    npartitions=12\n",
    ")"
   ]
  },
  {
   "cell_type": "code",
   "execution_count": 60,
   "id": "b8b92da2-1721-4fbd-973d-ea6949fafb4c",
   "metadata": {},
   "outputs": [],
   "source": [
    "pols_ddf2 = pols_ddf.copy()"
   ]
  },
  {
   "cell_type": "code",
   "execution_count": 61,
   "id": "c5bf4ce2-dd4f-46dd-9a1f-f693305f9b68",
   "metadata": {},
   "outputs": [
    {
     "data": {
      "text/html": [
       "<div><strong>Dask-GeoPandas GeoDataFrame Structure:</strong></div>\n",
       "<div>\n",
       "<style scoped>\n",
       "    .dataframe tbody tr th:only-of-type {\n",
       "        vertical-align: middle;\n",
       "    }\n",
       "\n",
       "    .dataframe tbody tr th {\n",
       "        vertical-align: top;\n",
       "    }\n",
       "\n",
       "    .dataframe thead th {\n",
       "        text-align: right;\n",
       "    }\n",
       "</style>\n",
       "<table border=\"1\" class=\"dataframe\">\n",
       "  <thead>\n",
       "    <tr style=\"text-align: right;\">\n",
       "      <th></th>\n",
       "      <th>ID</th>\n",
       "      <th>year</th>\n",
       "      <th>month</th>\n",
       "      <th>geometry</th>\n",
       "    </tr>\n",
       "    <tr>\n",
       "      <th>npartitions=12</th>\n",
       "      <th></th>\n",
       "      <th></th>\n",
       "      <th></th>\n",
       "      <th></th>\n",
       "    </tr>\n",
       "  </thead>\n",
       "  <tbody>\n",
       "    <tr>\n",
       "      <th>0</th>\n",
       "      <td>object</td>\n",
       "      <td>int64</td>\n",
       "      <td>int64</td>\n",
       "      <td>geometry</td>\n",
       "    </tr>\n",
       "    <tr>\n",
       "      <th>24463</th>\n",
       "      <td>...</td>\n",
       "      <td>...</td>\n",
       "      <td>...</td>\n",
       "      <td>...</td>\n",
       "    </tr>\n",
       "    <tr>\n",
       "      <th>...</th>\n",
       "      <td>...</td>\n",
       "      <td>...</td>\n",
       "      <td>...</td>\n",
       "      <td>...</td>\n",
       "    </tr>\n",
       "    <tr>\n",
       "      <th>269092</th>\n",
       "      <td>...</td>\n",
       "      <td>...</td>\n",
       "      <td>...</td>\n",
       "      <td>...</td>\n",
       "    </tr>\n",
       "    <tr>\n",
       "      <th>293553</th>\n",
       "      <td>...</td>\n",
       "      <td>...</td>\n",
       "      <td>...</td>\n",
       "      <td>...</td>\n",
       "    </tr>\n",
       "  </tbody>\n",
       "</table>\n",
       "</div>\n",
       "<div>Dask Name: from_pandas, 1 graph layer</div>"
      ],
      "text/plain": [
       "Dask GeoDataFrame Structure:\n",
       "                    ID   year  month  geometry\n",
       "npartitions=12                                \n",
       "0               object  int64  int64  geometry\n",
       "24463              ...    ...    ...       ...\n",
       "...                ...    ...    ...       ...\n",
       "269092             ...    ...    ...       ...\n",
       "293553             ...    ...    ...       ...\n",
       "Dask Name: from_pandas, 1 graph layer"
      ]
     },
     "execution_count": 61,
     "metadata": {},
     "output_type": "execute_result"
    }
   ],
   "source": [
    "pols_ddf"
   ]
  },
  {
   "cell_type": "code",
   "execution_count": 62,
   "id": "aa7b22b8-a7a3-4a8b-ae66-0869154d8150",
   "metadata": {},
   "outputs": [
    {
     "data": {
      "text/html": [
       "<div><strong>Dask-GeoPandas GeoDataFrame Structure:</strong></div>\n",
       "<div>\n",
       "<style scoped>\n",
       "    .dataframe tbody tr th:only-of-type {\n",
       "        vertical-align: middle;\n",
       "    }\n",
       "\n",
       "    .dataframe tbody tr th {\n",
       "        vertical-align: top;\n",
       "    }\n",
       "\n",
       "    .dataframe thead th {\n",
       "        text-align: right;\n",
       "    }\n",
       "</style>\n",
       "<table border=\"1\" class=\"dataframe\">\n",
       "  <thead>\n",
       "    <tr style=\"text-align: right;\">\n",
       "      <th></th>\n",
       "      <th>ID</th>\n",
       "      <th>year</th>\n",
       "      <th>month</th>\n",
       "      <th>geometry</th>\n",
       "    </tr>\n",
       "    <tr>\n",
       "      <th>npartitions=12</th>\n",
       "      <th></th>\n",
       "      <th></th>\n",
       "      <th></th>\n",
       "      <th></th>\n",
       "    </tr>\n",
       "  </thead>\n",
       "  <tbody>\n",
       "    <tr>\n",
       "      <th>0</th>\n",
       "      <td>object</td>\n",
       "      <td>int64</td>\n",
       "      <td>int64</td>\n",
       "      <td>geometry</td>\n",
       "    </tr>\n",
       "    <tr>\n",
       "      <th>24463</th>\n",
       "      <td>...</td>\n",
       "      <td>...</td>\n",
       "      <td>...</td>\n",
       "      <td>...</td>\n",
       "    </tr>\n",
       "    <tr>\n",
       "      <th>...</th>\n",
       "      <td>...</td>\n",
       "      <td>...</td>\n",
       "      <td>...</td>\n",
       "      <td>...</td>\n",
       "    </tr>\n",
       "    <tr>\n",
       "      <th>269092</th>\n",
       "      <td>...</td>\n",
       "      <td>...</td>\n",
       "      <td>...</td>\n",
       "      <td>...</td>\n",
       "    </tr>\n",
       "    <tr>\n",
       "      <th>293553</th>\n",
       "      <td>...</td>\n",
       "      <td>...</td>\n",
       "      <td>...</td>\n",
       "      <td>...</td>\n",
       "    </tr>\n",
       "  </tbody>\n",
       "</table>\n",
       "</div>\n",
       "<div>Dask Name: from_pandas, 1 graph layer</div>"
      ],
      "text/plain": [
       "Dask GeoDataFrame Structure:\n",
       "                    ID   year  month  geometry\n",
       "npartitions=12                                \n",
       "0               object  int64  int64  geometry\n",
       "24463              ...    ...    ...       ...\n",
       "...                ...    ...    ...       ...\n",
       "269092             ...    ...    ...       ...\n",
       "293553             ...    ...    ...       ...\n",
       "Dask Name: from_pandas, 1 graph layer"
      ]
     },
     "execution_count": 62,
     "metadata": {},
     "output_type": "execute_result"
    }
   ],
   "source": [
    "pols_ddf2"
   ]
  },
  {
   "cell_type": "code",
   "execution_count": 63,
   "id": "3e141d57-ebc5-4dd8-9f07-e15984e1c0ee",
   "metadata": {},
   "outputs": [
    {
     "name": "stdout",
     "output_type": "stream",
     "text": [
      "Wall time: 5.13 s\n"
     ]
    }
   ],
   "source": [
    "%%time\n",
    "pols_ddf2['geometry'] = pols_ddf2.geometry.buffer(5, join_style = 2).compute()"
   ]
  },
  {
   "cell_type": "code",
   "execution_count": 64,
   "id": "39b2dfd9-a881-4d8e-8a86-474d190e4d57",
   "metadata": {},
   "outputs": [
    {
     "name": "stdout",
     "output_type": "stream",
     "text": [
      "Wall time: 696 ms\n"
     ]
    }
   ],
   "source": [
    "%%time\n",
    "pols_ddf = pols_ddf.compute()\n",
    "pols_ddf2 = pols_ddf2.compute()"
   ]
  },
  {
   "cell_type": "code",
   "execution_count": 65,
   "id": "4e4b3721-bf97-40e8-8b78-cf4e9789d6c7",
   "metadata": {},
   "outputs": [
    {
     "data": {
      "text/plain": [
       "<AxesSubplot:>"
      ]
     },
     "execution_count": 65,
     "metadata": {},
     "output_type": "execute_result"
    },
    {
     "data": {
      "image/png": "[encoded data removed]",
      "text/plain": [
       "<Figure size 640x480 with 1 Axes>"
      ]
     },
     "metadata": {},
     "output_type": "display_data"
    }
   ],
   "source": [
    "pols_ddf.loc[[0], :].plot()"
   ]
  },
  {
   "cell_type": "code",
   "execution_count": 66,
   "id": "95576048-21a0-405c-af9a-c213db20089c",
   "metadata": {},
   "outputs": [
    {
     "data": {
      "text/plain": [
       "<AxesSubplot:>"
      ]
     },
     "execution_count": 66,
     "metadata": {},
     "output_type": "execute_result"
    },
    {
     "data": {
      "image/png": "[encoded data removed]",
      "text/plain": [
       "<Figure size 640x480 with 1 Axes>"
      ]
     },
     "metadata": {},
     "output_type": "display_data"
    }
   ],
   "source": [
    "pols_ddf2.loc[[0], :].plot()"
   ]
  },
  {
   "cell_type": "code",
   "execution_count": null,
   "id": "d717fc3b-506e-4cb2-8d77-25d673eb27e0",
   "metadata": {},
   "outputs": [],
   "source": []
  },
  {
   "cell_type": "code",
   "execution_count": null,
   "id": "6aaf9c28-88ce-4439-9be6-1ed9a5fc2d54",
   "metadata": {},
   "outputs": [],
   "source": [
    "pols_ddf = pols_ddf.spatial_shuffle()"
   ]
  },
  {
   "cell_type": "code",
   "execution_count": null,
   "id": "49c8ba86-4568-4568-a314-2ac5ebd76b7c",
   "metadata": {},
   "outputs": [],
   "source": [
    "pols_ddf.spatial_partitions.explore()"
   ]
  },
  {
   "cell_type": "markdown",
   "id": "cde21cbc-f26f-4fda-ae3a-e1df1cb660c3",
   "metadata": {},
   "source": [
    "## Exploring how it would be to merge August and September"
   ]
  },
  {
   "cell_type": "code",
   "execution_count": null,
   "id": "731436e8-0d9a-4007-ae2b-304243d11bfd",
   "metadata": {},
   "outputs": [],
   "source": [
    "pols_aug = pols[pols['month'] == 8]\n",
    "pols_sep = pols[pols['month'] == 9]"
   ]
  },
  {
   "cell_type": "code",
   "execution_count": null,
   "id": "840ba990-a98d-4bf3-8c97-ce5e4eb4b1e5",
   "metadata": {},
   "outputs": [],
   "source": [
    "pols_aug = pols_aug.reset_index(drop = True)\n",
    "pols_sep = pols_sep.reset_index(drop = True)"
   ]
  },
  {
   "cell_type": "code",
   "execution_count": null,
   "id": "d97d2e4c-2454-437e-ad4d-aa8a85f9289e",
   "metadata": {},
   "outputs": [],
   "source": [
    "pols_aug['ID_aug'] = pols_aug.index\n",
    "pols_sep['ID_sep'] = pols_sep.index + pols_aug['ID_aug'].max() + 1"
   ]
  },
  {
   "cell_type": "code",
   "execution_count": null,
   "id": "73bb5457-826e-4977-96ac-b45b9c2d9ec2",
   "metadata": {},
   "outputs": [],
   "source": [
    "pols_aug.head()"
   ]
  },
  {
   "cell_type": "code",
   "execution_count": null,
   "id": "750951dc-ace3-4f74-931e-fb48d3f80abe",
   "metadata": {},
   "outputs": [],
   "source": [
    "pols_aug.tail()"
   ]
  },
  {
   "cell_type": "code",
   "execution_count": null,
   "id": "c3af5ba7-2dee-481d-ba3a-15cf64b7d605",
   "metadata": {},
   "outputs": [],
   "source": [
    "pols_sep.head()"
   ]
  },
  {
   "cell_type": "markdown",
   "id": "54020c45-bcdd-42ac-a45a-393ca8287a2b",
   "metadata": {},
   "source": [
    "### With dask-geopandas"
   ]
  },
  {
   "cell_type": "markdown",
   "id": "9cbd3a31-4c5e-4e17-9bef-2d17c96ff573",
   "metadata": {},
   "source": [
    "Converting to dask-geopandas"
   ]
  },
  {
   "cell_type": "code",
   "execution_count": null,
   "id": "dbbc2082-0415-46e7-bc48-bd6d2907842e",
   "metadata": {},
   "outputs": [],
   "source": [
    "pols_aug_ddf = dgpd.from_geopandas(\n",
    "    pols_aug,\n",
    "    npartitions=12\n",
    ")\n",
    "pols_sep_ddf = dgpd.from_geopandas(\n",
    "    pols_sep,\n",
    "    npartitions=12\n",
    ")"
   ]
  },
  {
   "cell_type": "code",
   "execution_count": null,
   "id": "1699371a-9532-42b6-a27b-7a2e06d7f444",
   "metadata": {},
   "outputs": [],
   "source": [
    "pols_aug_ddf.head()"
   ]
  },
  {
   "cell_type": "code",
   "execution_count": null,
   "id": "eb61319c-5399-4066-afd8-2bf1a6a54c7a",
   "metadata": {},
   "outputs": [],
   "source": [
    "pols_sep_ddf.head()"
   ]
  },
  {
   "cell_type": "code",
   "execution_count": null,
   "id": "09caa0ef-9f67-4c48-af57-3057c3e53e00",
   "metadata": {},
   "outputs": [],
   "source": [
    "pols_aug_ddf = pols_aug_ddf.spatial_shuffle()\n",
    "pols_sep_ddf = pols_sep_ddf.spatial_shuffle()"
   ]
  },
  {
   "cell_type": "code",
   "execution_count": null,
   "id": "945166ff-279a-4062-b271-8544b76415a3",
   "metadata": {},
   "outputs": [],
   "source": [
    "pols_aug_ddf.spatial_partitions.explore()"
   ]
  },
  {
   "cell_type": "code",
   "execution_count": null,
   "id": "84b724b7-ebaf-44e3-a9ff-60445da03ca6",
   "metadata": {},
   "outputs": [],
   "source": [
    "pols_sep_ddf.spatial_partitions.explore()"
   ]
  },
  {
   "cell_type": "code",
   "execution_count": null,
   "id": "41a4d8c8-9a7c-4b1e-a63e-cfbb06fd83bb",
   "metadata": {},
   "outputs": [],
   "source": [
    "joined = pols_sep_ddf.sjoin(pols_aug_ddf, predicate=\"touches\")"
   ]
  },
  {
   "cell_type": "code",
   "execution_count": null,
   "id": "1c375181-ad73-4901-b388-8e4ae05e433a",
   "metadata": {},
   "outputs": [],
   "source": [
    "joined.npartitions"
   ]
  },
  {
   "cell_type": "code",
   "execution_count": null,
   "id": "23ca23f8-3659-4f3c-8fa4-81ba1bb0c0d1",
   "metadata": {},
   "outputs": [],
   "source": [
    "pols_aug_ddf.npartitions"
   ]
  },
  {
   "cell_type": "code",
   "execution_count": null,
   "id": "b9851921-a36e-4dd0-ae47-e1e578f89e87",
   "metadata": {},
   "outputs": [],
   "source": [
    "pols_sep_ddf.npartitions"
   ]
  },
  {
   "cell_type": "markdown",
   "id": "125ff1d4-76af-49d6-b21a-166c095a37ca",
   "metadata": {},
   "source": [
    "Using the spatial joins, we are already reducing the amount of checks between groups."
   ]
  },
  {
   "cell_type": "markdown",
   "id": "79d237e0-03f1-423f-bda9-45380f7a0598",
   "metadata": {},
   "source": [
    "I would say that I would first take the buffer of geometries (to 5 m), then calculate the spatial partitions, then do the spatial join."
   ]
  },
  {
   "cell_type": "code",
   "execution_count": null,
   "id": "66383b59-1040-46d6-ad78-15c1f8ce97f9",
   "metadata": {},
   "outputs": [],
   "source": [
    "%%time\n",
    "joined = joined.compute()"
   ]
  },
  {
   "cell_type": "markdown",
   "id": "07e87bea-4b19-4fef-887e-7863127b4cd5",
   "metadata": {},
   "source": [
    "Before this last step, previous steps had only taken a few seconds.\n",
    "\n",
    "The question is how does this time compares to the id_components..."
   ]
  },
  {
   "cell_type": "markdown",
   "id": "6a25ca2a-3289-44c2-b222-6f1360e589e2",
   "metadata": {},
   "source": [
    "<font color=red> Another challenge is how to turn this into what I want. First, make sure that the resulting polygons make sense. Then, decide on the columns and index to keep. As well, all those elements that have index_right repeated, should be dissolved into a unique geometry.</font>"
   ]
  },
  {
   "cell_type": "code",
   "execution_count": null,
   "id": "5657d3f8-9823-4054-89d8-c280869a5599",
   "metadata": {},
   "outputs": [],
   "source": [
    "joined"
   ]
  },
  {
   "cell_type": "code",
   "execution_count": null,
   "id": "449f0e01-b563-4d7e-b41e-f6911a0b809b",
   "metadata": {},
   "outputs": [],
   "source": [
    "joined['ID_aug'].sort_values().unique()"
   ]
  },
  {
   "cell_type": "code",
   "execution_count": null,
   "id": "fd716af8-6929-4f39-8168-5ad19cdde1ee",
   "metadata": {},
   "outputs": [],
   "source": [
    "joined['ID_sep'].sort_values().unique()"
   ]
  },
  {
   "cell_type": "code",
   "execution_count": null,
   "id": "39224191-2dda-43b7-9b51-395a236615bf",
   "metadata": {},
   "outputs": [],
   "source": [
    "joined = joined.reset_index(drop = True)"
   ]
  },
  {
   "cell_type": "code",
   "execution_count": null,
   "id": "050dab92-6746-4477-8b5e-4860258d76b8",
   "metadata": {},
   "outputs": [],
   "source": [
    "joined"
   ]
  },
  {
   "cell_type": "markdown",
   "id": "f7d26248-3804-45fd-95ed-5d1794f3d84e",
   "metadata": {},
   "source": [
    "Constructing the sparse matrix. I think in principle it does not matter if the matrix directed or not."
   ]
  },
  {
   "cell_type": "code",
   "execution_count": null,
   "id": "b66e713a-54ce-4750-a52e-c26296774b96",
   "metadata": {},
   "outputs": [],
   "source": [
    "%%time\n",
    "sparse_matrix = csr_matrix((np.ones(len(joined)), (joined['ID_aug'], joined['ID_sep'])), shape = (pols_sep['ID_sep'].max() + 1, pols_sep['ID_sep'].max() + 1))"
   ]
  },
  {
   "cell_type": "markdown",
   "id": "14a52d9b-d87c-4f1a-a265-4a38c72d1954",
   "metadata": {},
   "source": [
    "Calculating connected components"
   ]
  },
  {
   "cell_type": "code",
   "execution_count": null,
   "id": "bcec55f8-516d-4869-ae37-d9daa7533baf",
   "metadata": {},
   "outputs": [],
   "source": [
    "%%time\n",
    "output = connected_components(sparse_matrix)"
   ]
  },
  {
   "cell_type": "markdown",
   "id": "9b91b41f-4957-44c7-8968-53ccdc526e14",
   "metadata": {},
   "source": [
    "Now I believe is just a matter of concatenating the pols_aug and pols_sep and assign output[1] as the conn_ids column"
   ]
  },
  {
   "cell_type": "code",
   "execution_count": null,
   "id": "999b4ac0-a001-4e15-8235-d91579ebb2d1",
   "metadata": {},
   "outputs": [],
   "source": [
    "pols_aug_sep = gpd.GeoDataFrame( pd.concat([pols_aug, pols_sep], ignore_index = True), crs = pols_aug.crs)"
   ]
  },
  {
   "cell_type": "code",
   "execution_count": null,
   "id": "30028020-6253-44fe-9a55-e3367b01969d",
   "metadata": {},
   "outputs": [],
   "source": [
    "len(pols_aug_sep)"
   ]
  },
  {
   "cell_type": "code",
   "execution_count": null,
   "id": "f36b107c-a30f-44e0-b344-b46afeeb69ea",
   "metadata": {},
   "outputs": [],
   "source": [
    "len(output[1])"
   ]
  },
  {
   "cell_type": "code",
   "execution_count": null,
   "id": "c432afdc-e866-4cf2-b176-dea07cdf38b8",
   "metadata": {},
   "outputs": [],
   "source": [
    "pols_aug_sep['conn_ids'] = output[1]"
   ]
  },
  {
   "cell_type": "code",
   "execution_count": null,
   "id": "8fa2dcf2-9265-4f81-ba6a-12499a936439",
   "metadata": {},
   "outputs": [],
   "source": [
    "pols_aug_sep.head(20)"
   ]
  },
  {
   "cell_type": "markdown",
   "id": "bd25c41e-d8ca-4541-a37f-c354b531b165",
   "metadata": {},
   "source": [
    "I want to check if there are indeed duplicates, and if they seem to belong to groups of polygons (visual chekc with ID and QGIS)"
   ]
  },
  {
   "cell_type": "code",
   "execution_count": null,
   "id": "eb43a5fc-de98-45a7-97a7-ecd2a1dc62e8",
   "metadata": {},
   "outputs": [],
   "source": [
    "duplicates = pols_aug_sep['conn_ids'].duplicated(keep = False)"
   ]
  },
  {
   "cell_type": "code",
   "execution_count": null,
   "id": "6be05fcb-e4c4-41ac-8b1d-5d90361d6735",
   "metadata": {},
   "outputs": [],
   "source": [
    "pols_aug_sep['dup'] = duplicates"
   ]
  },
  {
   "cell_type": "code",
   "execution_count": null,
   "id": "e3a88926-c353-4b4c-b189-567962d025a9",
   "metadata": {},
   "outputs": [],
   "source": [
    "pols_aug_sep[pols_aug_sep['dup'] == True].head(20)"
   ]
  },
  {
   "cell_type": "markdown",
   "id": "382dcf07-018e-4bf2-abd4-e88dc4b6a898",
   "metadata": {},
   "source": [
    "Awesome, seems to be working! Now let's check visually that it makes sense!"
   ]
  },
  {
   "cell_type": "code",
   "execution_count": null,
   "id": "bedf5193-9202-4aa7-9f65-79bd8c7c627c",
   "metadata": {},
   "outputs": [],
   "source": [
    "pols_aug_sep[pols_aug_sep['conn_ids'] == 22]"
   ]
  },
  {
   "cell_type": "markdown",
   "id": "189a4a77-43c7-47b9-aa4c-04c8fc84625e",
   "metadata": {},
   "source": [
    "<font color = green>It is correct!</font>"
   ]
  },
  {
   "cell_type": "code",
   "execution_count": null,
   "id": "d77d892b-4d92-4d34-a430-03b6845c46b5",
   "metadata": {},
   "outputs": [],
   "source": [
    "pols_aug_sep[pols_aug_sep['conn_ids'] == 52]"
   ]
  },
  {
   "cell_type": "markdown",
   "id": "0beef15a-bd99-4a65-9329-c355c85386fb",
   "metadata": {},
   "source": [
    "<font color = green>It is correct!</font>"
   ]
  },
  {
   "cell_type": "code",
   "execution_count": null,
   "id": "055e7baf-6244-4926-a778-e076e574afb0",
   "metadata": {},
   "outputs": [],
   "source": [
    "pols_aug_sep[pols_aug_sep['conn_ids'] == 83]"
   ]
  },
  {
   "cell_type": "markdown",
   "id": "acc61236-beab-49c8-b4ce-7e00fac71d2b",
   "metadata": {},
   "source": [
    "<font color = green>It is correct!</font>"
   ]
  },
  {
   "cell_type": "code",
   "execution_count": null,
   "id": "c7fceba9-c739-43eb-a905-280e379bea49",
   "metadata": {},
   "outputs": [],
   "source": [
    "pols_aug_sep[pols_aug_sep['dup'] == True].tail(20)"
   ]
  },
  {
   "cell_type": "code",
   "execution_count": null,
   "id": "9874d03f-9a4b-4c25-9118-1303e845f588",
   "metadata": {},
   "outputs": [],
   "source": [
    "pols_aug_sep[pols_aug_sep['conn_ids'] == 7991].head(40)"
   ]
  },
  {
   "cell_type": "markdown",
   "id": "d6542bf8-026e-43cc-8d8f-1068c9748317",
   "metadata": {},
   "source": [
    "<font color = green>It is correct!</font>"
   ]
  },
  {
   "cell_type": "markdown",
   "id": "de957936-4fef-46e9-88a8-cdbc226dbf70",
   "metadata": {},
   "source": [
    "## Summary of new method"
   ]
  },
  {
   "cell_type": "markdown",
   "id": "e9128c86-c5b5-41d2-9956-3444a125407c",
   "metadata": {},
   "source": [
    " 1. Get the two geodataframes, for the two consecutive months\n",
    " 1. Reset their indices\n",
    " 1. Create ID column with different names as per cell 11.\n",
    " 1. Cast them into das-geopandas dataframes\n",
    " 1. draw the spatial partitions for each one of them\n",
    " 1. do the spatial join. Make sure order is consistent: first month first\n",
    " 1. compute the spatial join\n",
    " 1. reset and drop index\n",
    " 1. Create sparse matrix as per cell 44\n",
    " 1. Calculate the connected components\n",
    " 1. Drop recently created ID columns from original month dataframes, and concatenate them. Make sure th order is consistent: first month first\n",
    " 1. Free memory of the two month polygons\n",
    " 1. Make sure length of this dataframe is the same as length of connected components (for sanity)\n",
    " 1. Then, script shall proceed as it already is.\n",
    " \n",
    " \n",
    " \n",
    " - Test in local with year 2000 polygons, because if there is not much time improvement, then there is no point\n",
    " - If there is substantial time improvement, then update the dask-geopandas library in the Linux cluster (will I need to stop what is already running?)\n",
    " - Run files that are left with the new method"
   ]
  },
  {
   "cell_type": "markdown",
   "id": "ab072100-775f-4385-b5fc-15067d67f842",
   "metadata": {},
   "source": [
    "ok... so this takes a little less time.\n",
    "\n",
    "The dask method does not merge the polygons, it just detects polygons that are connected.\n",
    "\n",
    "So, out of this I am only interested in the ID_left and ID_right columns. This seems to be a way of indicating the connected compoents, I wonder if there is an easy way of turning it into ID -> conn_ids.\n",
    "\n",
    "So, all of this would just be a way to get a substitute for id_components. In a subset, both take similar times. When doing the full data, would it be any faster?"
   ]
  },
  {
   "cell_type": "markdown",
   "id": "c8b4261f-dc5c-46ef-9c7d-6ab79948d9e1",
   "metadata": {},
   "source": [
    "We have learned that\n",
    " - The elements that are not to be joined are dropped from the dataframe\n",
    " - If we assign a unique ID to each polygon in the two months dataframes, then when we get the joined dataframe we are effectively getting a sparse matrix and it should be easy to return the connected components\n",
    " - This last function would work using a sparse matrix \n",
    " \n",
    "I have to install scipy."
   ]
  },
  {
   "cell_type": "markdown",
   "id": "22d2070c-7ece-452f-81ee-7e42f91c6c07",
   "metadata": {},
   "source": [
    "## Checking time spent by my new method"
   ]
  },
  {
   "cell_type": "code",
   "execution_count": null,
   "id": "72635d55-a294-4de9-9a23-e1048931017d",
   "metadata": {},
   "outputs": [],
   "source": [
    "pols_time = gpd.read_file('../../data/temp/fixed/2000/MBfogo_c10_cerrado_polygons_2000_buff150.shp')"
   ]
  },
  {
   "cell_type": "code",
   "execution_count": null,
   "id": "b228fb02-3686-45c9-a879-0fcd38b0b382",
   "metadata": {},
   "outputs": [],
   "source": [
    "pols_time_aug = pols_time[pols_time['month'] == 8]\n",
    "pols_time_sep = pols_time[pols_time['month'] == 9]"
   ]
  },
  {
   "cell_type": "code",
   "execution_count": null,
   "id": "31090cdd-fcb0-4304-a039-f9d588ed6caf",
   "metadata": {},
   "outputs": [],
   "source": [
    "del pols_time"
   ]
  },
  {
   "cell_type": "code",
   "execution_count": null,
   "id": "1aad5130-5999-4358-872b-6b0adda00ebf",
   "metadata": {},
   "outputs": [],
   "source": [
    "%%time\n",
    "pols_time_aug = dgpd.from_geopandas(\n",
    "        pols_time_aug,\n",
    "        npartitions = 12)\n",
    "pols_time_sep = dgpd.from_geopandas(\n",
    "        pols_time_sep,\n",
    "        npartitions = 12)"
   ]
  },
  {
   "cell_type": "code",
   "execution_count": null,
   "id": "8b5f7a5a-b99d-44c8-a55e-564adcf7a995",
   "metadata": {},
   "outputs": [],
   "source": [
    "%%time\n",
    "pols_time_aug = pols_time_aug.spatial_shuffle()\n",
    "pols_time_sep = pols_time_sep.spatial_shuffle()"
   ]
  },
  {
   "cell_type": "code",
   "execution_count": null,
   "id": "fea97dd0-6c5f-4bc2-b24d-3b545e0cb054",
   "metadata": {},
   "outputs": [],
   "source": [
    "pols_time_aug.spatial_partitions.explore()"
   ]
  },
  {
   "cell_type": "code",
   "execution_count": null,
   "id": "1114e737-3bb4-4011-ac4b-9889c3210b01",
   "metadata": {},
   "outputs": [],
   "source": [
    "joined = pols_time_aug.sjoin(pols_time_sep, predicate=\"touches\")"
   ]
  },
  {
   "cell_type": "code",
   "execution_count": null,
   "id": "b7c3ffca-3b76-443b-a541-a733998264f8",
   "metadata": {},
   "outputs": [],
   "source": [
    "%%time\n",
    "joined.compute()"
   ]
  },
  {
   "cell_type": "markdown",
   "id": "3218e839-ad9f-486d-89b9-5ff09938537b",
   "metadata": {},
   "source": [
    "Compare the above with using ID_components on the same file... THIS PROBABLY TAKES A WHILE!"
   ]
  },
  {
   "cell_type": "code",
   "execution_count": null,
   "id": "ba28ffbd-8c43-4c14-be97-fe493517688c",
   "metadata": {},
   "outputs": [],
   "source": []
  },
  {
   "cell_type": "markdown",
   "id": "0dc3e6f2-d037-4bb2-a3c5-bbbe24313a84",
   "metadata": {
    "tags": []
   },
   "source": [
    "### With id_connectedComponents"
   ]
  },
  {
   "cell_type": "code",
   "execution_count": null,
   "id": "96b10faf-94e6-4192-ae92-fdb8d3697161",
   "metadata": {},
   "outputs": [],
   "source": [
    "import sys\n",
    "sys.path.append('../processing/')\n",
    "from MBfogo_mergePolygons_consecutiveMonths import id_connectedComponents"
   ]
  },
  {
   "cell_type": "code",
   "execution_count": null,
   "id": "e03732fd-665e-4629-ae3c-20dea45ff8b5",
   "metadata": {},
   "outputs": [],
   "source": [
    "pols_time = gpd.read_file('../../data/temp/fixed/2000/MBfogo_c10_cerrado_polygons_2000_buff150.shp')"
   ]
  },
  {
   "cell_type": "code",
   "execution_count": null,
   "id": "731aee29-8a59-4abe-964d-92c2f62f73d1",
   "metadata": {},
   "outputs": [],
   "source": [
    "pols_time_aug = pols_time[pols_time['month'] == 8]\n",
    "pols_time_sep = pols_time[pols_time['month'] == 9]"
   ]
  },
  {
   "cell_type": "code",
   "execution_count": null,
   "id": "8fb7a1d8-3a6d-41b6-9d2b-2974ce664e2b",
   "metadata": {},
   "outputs": [],
   "source": [
    "del pols_time"
   ]
  },
  {
   "cell_type": "code",
   "execution_count": null,
   "id": "0c2cf00e-bfc9-4c6a-bf33-f1bc1091e56f",
   "metadata": {},
   "outputs": [],
   "source": [
    "pols_time_aug_sep = gpd.GeoDataFrame( pd.concat([pols_time_aug, pols_time_sep], ignore_index = True), crs = pols_time_aug.crs)"
   ]
  },
  {
   "cell_type": "code",
   "execution_count": null,
   "id": "07a80471-3e47-4ba0-9e49-1676775aa692",
   "metadata": {},
   "outputs": [],
   "source": [
    "pols_time_aug_sep.crs"
   ]
  },
  {
   "cell_type": "code",
   "execution_count": null,
   "id": "5e60a607-a76b-4e00-b545-ee561101460b",
   "metadata": {},
   "outputs": [],
   "source": [
    "pols_time_aug_sep = pols_time_aug_sep.to_crs('epsg:5880')"
   ]
  },
  {
   "cell_type": "code",
   "execution_count": null,
   "id": "239542e9-7e08-425a-bfb1-26a35c8192c4",
   "metadata": {},
   "outputs": [],
   "source": [
    "%%time\n",
    "output = id_connectedComponents(pols_time_aug_sep)"
   ]
  },
  {
   "cell_type": "code",
   "execution_count": null,
   "id": "37f2352c-efa8-4d71-ab15-aa49d7b08545",
   "metadata": {},
   "outputs": [],
   "source": []
  }
 ],
 "metadata": {
  "kernelspec": {
   "display_name": "Python [conda env:geo_env] *",
   "language": "python",
   "name": "conda-env-geo_env-py"
  },
  "language_info": {
   "codemirror_mode": {
    "name": "ipython",
    "version": 3
   },
   "file_extension": ".py",
   "mimetype": "text/x-python",
   "name": "python",
   "nbconvert_exporter": "python",
   "pygments_lexer": "ipython3",
   "version": "3.9.2"
  }
 },
 "nbformat": 4,
 "nbformat_minor": 5
}
