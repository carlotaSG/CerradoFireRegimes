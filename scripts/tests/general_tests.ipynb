{
 "cells": [
  {
   "cell_type": "code",
   "execution_count": 4,
   "id": "ae342a46-76b9-492e-a68a-22a922f1c12f",
   "metadata": {},
   "outputs": [],
   "source": [
    "import os, glob"
   ]
  },
  {
   "cell_type": "code",
   "execution_count": 5,
   "id": "e3955284-1287-4f20-8fe7-29405dc94a3e",
   "metadata": {},
   "outputs": [],
   "source": [
    "a = 'to_erase_2000.{}'.format('*')"
   ]
  },
  {
   "cell_type": "code",
   "execution_count": 6,
   "id": "4a736338-8e49-4859-a30e-d3a8284e10ec",
   "metadata": {},
   "outputs": [
    {
     "name": "stdout",
     "output_type": "stream",
     "text": [
      "to_erase_2000.csv\n",
      "to_erase_2000.py\n",
      "to_erase_2000.txt\n"
     ]
    }
   ],
   "source": [
    "for file in glob.glob(a):\n",
    "    print(file)\n",
    "    try:\n",
    "        os.remove(file)\n",
    "    except OSError as e:\n",
    "        # If it fails, inform the user.\n",
    "        print(\"Error: %s - %s.\" % (e.filename, e.strerror))"
   ]
  },
  {
   "cell_type": "code",
   "execution_count": 1,
   "id": "e249b273-10a5-4823-8522-99beba14ab04",
   "metadata": {},
   "outputs": [],
   "source": [
    "a = [1,1,3,3,3,6,6,6,2,2,2,2,2,2,10,11,15,12]"
   ]
  },
  {
   "cell_type": "code",
   "execution_count": 2,
   "id": "bb00af1b-4ecc-4611-b0df-e143c8d56628",
   "metadata": {},
   "outputs": [
    {
     "ename": "AttributeError",
     "evalue": "'list' object has no attribute 'unique'",
     "output_type": "error",
     "traceback": [
      "\u001b[1;31m---------------------------------------------------------------------------\u001b[0m",
      "\u001b[1;31mAttributeError\u001b[0m                            Traceback (most recent call last)",
      "\u001b[1;32m~\\AppData\\Local\\Temp\\ipykernel_9576\\2317128720.py\u001b[0m in \u001b[0;36m<cell line: 1>\u001b[1;34m()\u001b[0m\n\u001b[1;32m----> 1\u001b[1;33m \u001b[0ma\u001b[0m\u001b[1;33m.\u001b[0m\u001b[0munique\u001b[0m\u001b[1;33m(\u001b[0m\u001b[1;33m)\u001b[0m\u001b[1;33m\u001b[0m\u001b[1;33m\u001b[0m\u001b[0m\n\u001b[0m",
      "\u001b[1;31mAttributeError\u001b[0m: 'list' object has no attribute 'unique'"
     ]
    }
   ],
   "source": [
    "a.unique()"
   ]
  },
  {
   "cell_type": "code",
   "execution_count": 1,
   "id": "ee5512fd-fe19-4b69-b608-5e2fe4b784a9",
   "metadata": {},
   "outputs": [],
   "source": [
    "import pandas as pd\n",
    "import geopandas as gpd\n",
    "from pytictoc import TicToc\n",
    "t = TicToc()"
   ]
  },
  {
   "cell_type": "code",
   "execution_count": 4,
   "id": "dc64d264-9f1a-4ba0-b9fc-2d792071b30d",
   "metadata": {},
   "outputs": [],
   "source": [
    "a = pd.Series(a)"
   ]
  },
  {
   "cell_type": "code",
   "execution_count": 5,
   "id": "a1fa6ad0-38ba-4808-ae9d-0932de9422cb",
   "metadata": {},
   "outputs": [
    {
     "data": {
      "text/plain": [
       "array([ 1,  3,  6,  2, 10, 11, 15, 12], dtype=int64)"
      ]
     },
     "execution_count": 5,
     "metadata": {},
     "output_type": "execute_result"
    }
   ],
   "source": [
    "a.unique()"
   ]
  },
  {
   "cell_type": "code",
   "execution_count": 2,
   "id": "526e14df-0609-418b-9f6b-19134dbc5d8d",
   "metadata": {},
   "outputs": [
    {
     "name": "stdout",
     "output_type": "stream",
     "text": [
      "Elapsed time is 1.375772 seconds.\n"
     ]
    }
   ],
   "source": [
    "t.tic()\n",
    "data = pd.read_csv('../../data/processed/MBfogo_c10_cerrado_polygons/MBfogo_c10_cerrado_polygons_1985.csv')\n",
    "t.toc()"
   ]
  },
  {
   "cell_type": "code",
   "execution_count": 3,
   "id": "76f12ce1-129d-4c1f-b3b7-330ef2015930",
   "metadata": {},
   "outputs": [
    {
     "data": {
      "text/plain": [
       "array([ 1,  2,  3,  4,  5,  6,  7,  8,  9, 10, 11, 12], dtype=int64)"
      ]
     },
     "execution_count": 3,
     "metadata": {},
     "output_type": "execute_result"
    }
   ],
   "source": [
    "data['month'].unique()"
   ]
  },
  {
   "cell_type": "code",
   "execution_count": 13,
   "id": "bd170f1e-821c-4c72-9fc2-4404a2bc55cd",
   "metadata": {},
   "outputs": [
    {
     "name": "stdout",
     "output_type": "stream",
     "text": [
      "Elapsed time is 168.855246 seconds.\n"
     ]
    }
   ],
   "source": [
    "t.tic()\n",
    "data_ = gpd.read_file('../../data/processed/MBfogo_c10_cerrado_polygons/MBfogo_c10_cerrado_polygons_1985.shp')\n",
    "t.toc()"
   ]
  },
  {
   "cell_type": "code",
   "execution_count": 14,
   "id": "170718e7-a701-4f95-9a56-2f6f6c7dd4ef",
   "metadata": {},
   "outputs": [
    {
     "data": {
      "text/html": [
       "<div>\n",
       "<style scoped>\n",
       "    .dataframe tbody tr th:only-of-type {\n",
       "        vertical-align: middle;\n",
       "    }\n",
       "\n",
       "    .dataframe tbody tr th {\n",
       "        vertical-align: top;\n",
       "    }\n",
       "\n",
       "    .dataframe thead th {\n",
       "        text-align: right;\n",
       "    }\n",
       "</style>\n",
       "<table border=\"1\" class=\"dataframe\">\n",
       "  <thead>\n",
       "    <tr style=\"text-align: right;\">\n",
       "      <th></th>\n",
       "      <th>ID</th>\n",
       "      <th>year</th>\n",
       "      <th>month</th>\n",
       "      <th>geometry</th>\n",
       "    </tr>\n",
       "  </thead>\n",
       "  <tbody>\n",
       "    <tr>\n",
       "      <th>0</th>\n",
       "      <td>198509_1267317</td>\n",
       "      <td>1985</td>\n",
       "      <td>9</td>\n",
       "      <td>POLYGON ((-43.98125 -16.53268, -43.97990 -16.5...</td>\n",
       "    </tr>\n",
       "    <tr>\n",
       "      <th>1</th>\n",
       "      <td>198509_1267318</td>\n",
       "      <td>1985</td>\n",
       "      <td>9</td>\n",
       "      <td>POLYGON ((-44.07207 -16.54912, -44.07180 -16.5...</td>\n",
       "    </tr>\n",
       "    <tr>\n",
       "      <th>2</th>\n",
       "      <td>198509_1267319</td>\n",
       "      <td>1985</td>\n",
       "      <td>9</td>\n",
       "      <td>POLYGON ((-44.05994 -16.56637, -44.05967 -16.5...</td>\n",
       "    </tr>\n",
       "    <tr>\n",
       "      <th>3</th>\n",
       "      <td>198509_1267320</td>\n",
       "      <td>1985</td>\n",
       "      <td>9</td>\n",
       "      <td>POLYGON ((-44.05913 -16.56637, -44.05859 -16.5...</td>\n",
       "    </tr>\n",
       "    <tr>\n",
       "      <th>4</th>\n",
       "      <td>198509_1267321</td>\n",
       "      <td>1985</td>\n",
       "      <td>9</td>\n",
       "      <td>POLYGON ((-44.05805 -16.56691, -44.05778 -16.5...</td>\n",
       "    </tr>\n",
       "    <tr>\n",
       "      <th>...</th>\n",
       "      <td>...</td>\n",
       "      <td>...</td>\n",
       "      <td>...</td>\n",
       "      <td>...</td>\n",
       "    </tr>\n",
       "    <tr>\n",
       "      <th>610510</th>\n",
       "      <td>198509_1877827</td>\n",
       "      <td>1985</td>\n",
       "      <td>9</td>\n",
       "      <td>MULTIPOLYGON (((-47.63182 -15.13185, -47.63182...</td>\n",
       "    </tr>\n",
       "    <tr>\n",
       "      <th>610511</th>\n",
       "      <td>198509_1877828</td>\n",
       "      <td>1985</td>\n",
       "      <td>9</td>\n",
       "      <td>POLYGON ((-47.55663 -15.13158, -47.55636 -15.1...</td>\n",
       "    </tr>\n",
       "    <tr>\n",
       "      <th>610512</th>\n",
       "      <td>198509_1877829</td>\n",
       "      <td>1985</td>\n",
       "      <td>9</td>\n",
       "      <td>POLYGON ((-45.32602 -15.13077, -45.32495 -15.1...</td>\n",
       "    </tr>\n",
       "    <tr>\n",
       "      <th>610513</th>\n",
       "      <td>198509_1877830</td>\n",
       "      <td>1985</td>\n",
       "      <td>9</td>\n",
       "      <td>POLYGON ((-50.87303 -19.89463, -50.87276 -19.8...</td>\n",
       "    </tr>\n",
       "    <tr>\n",
       "      <th>610514</th>\n",
       "      <td>198509_1877831</td>\n",
       "      <td>1985</td>\n",
       "      <td>9</td>\n",
       "      <td>POLYGON ((-56.27667 -15.13266, -56.27802 -15.1...</td>\n",
       "    </tr>\n",
       "  </tbody>\n",
       "</table>\n",
       "<p>610515 rows × 4 columns</p>\n",
       "</div>"
      ],
      "text/plain": [
       "                    ID  year  month  \\\n",
       "0       198509_1267317  1985      9   \n",
       "1       198509_1267318  1985      9   \n",
       "2       198509_1267319  1985      9   \n",
       "3       198509_1267320  1985      9   \n",
       "4       198509_1267321  1985      9   \n",
       "...                ...   ...    ...   \n",
       "610510  198509_1877827  1985      9   \n",
       "610511  198509_1877828  1985      9   \n",
       "610512  198509_1877829  1985      9   \n",
       "610513  198509_1877830  1985      9   \n",
       "610514  198509_1877831  1985      9   \n",
       "\n",
       "                                                 geometry  \n",
       "0       POLYGON ((-43.98125 -16.53268, -43.97990 -16.5...  \n",
       "1       POLYGON ((-44.07207 -16.54912, -44.07180 -16.5...  \n",
       "2       POLYGON ((-44.05994 -16.56637, -44.05967 -16.5...  \n",
       "3       POLYGON ((-44.05913 -16.56637, -44.05859 -16.5...  \n",
       "4       POLYGON ((-44.05805 -16.56691, -44.05778 -16.5...  \n",
       "...                                                   ...  \n",
       "610510  MULTIPOLYGON (((-47.63182 -15.13185, -47.63182...  \n",
       "610511  POLYGON ((-47.55663 -15.13158, -47.55636 -15.1...  \n",
       "610512  POLYGON ((-45.32602 -15.13077, -45.32495 -15.1...  \n",
       "610513  POLYGON ((-50.87303 -19.89463, -50.87276 -19.8...  \n",
       "610514  POLYGON ((-56.27667 -15.13266, -56.27802 -15.1...  \n",
       "\n",
       "[610515 rows x 4 columns]"
      ]
     },
     "execution_count": 14,
     "metadata": {},
     "output_type": "execute_result"
    }
   ],
   "source": [
    "data[data['month'] == 9]"
   ]
  },
  {
   "cell_type": "code",
   "execution_count": 8,
   "id": "504250bf-b6eb-4c72-a7e8-2ac522327997",
   "metadata": {},
   "outputs": [
    {
     "data": {
      "text/plain": [
       "Int64Index([1267317, 1267318, 1267319, 1267320, 1267321, 1267322, 1267323,\n",
       "            1267324, 1267325, 1267326,\n",
       "            ...\n",
       "            1877823, 1877824, 1877825, 1877826, 1877827, 1877828, 1877829,\n",
       "            1877830, 1877831, 1877832],\n",
       "           dtype='int64', length=610516)"
      ]
     },
     "execution_count": 8,
     "metadata": {},
     "output_type": "execute_result"
    }
   ],
   "source": [
    "list_index = data[data['month'] == 9].index\n",
    "list_index"
   ]
  },
  {
   "cell_type": "code",
   "execution_count": 10,
   "id": "efbcb6a9-d077-4659-b8c7-1ccfed978c7a",
   "metadata": {},
   "outputs": [
    {
     "name": "stdout",
     "output_type": "stream",
     "text": [
      "1267317\n",
      "1877832\n"
     ]
    }
   ],
   "source": [
    "print(list_index[0])\n",
    "print(list_index[-1])"
   ]
  },
  {
   "cell_type": "code",
   "execution_count": 11,
   "id": "a648d7fb-7a29-4d4d-b2e0-329b5e80e974",
   "metadata": {},
   "outputs": [
    {
     "name": "stdout",
     "output_type": "stream",
     "text": [
      "Elapsed time is 51.180325 seconds.\n"
     ]
    }
   ],
   "source": [
    "t.tic()\n",
    "data = gpd.read_file('../../data/processed/MBfogo_c10_cerrado_polygons/MBfogo_c10_cerrado_polygons_1985.shp', rows = slice(list_index[0], list_index[-1]))\n",
    "t.toc()"
   ]
  },
  {
   "cell_type": "code",
   "execution_count": 12,
   "id": "89ee669d-cb36-4bc3-87d2-ff118131243d",
   "metadata": {},
   "outputs": [
    {
     "data": {
      "text/html": [
       "<div>\n",
       "<style scoped>\n",
       "    .dataframe tbody tr th:only-of-type {\n",
       "        vertical-align: middle;\n",
       "    }\n",
       "\n",
       "    .dataframe tbody tr th {\n",
       "        vertical-align: top;\n",
       "    }\n",
       "\n",
       "    .dataframe thead th {\n",
       "        text-align: right;\n",
       "    }\n",
       "</style>\n",
       "<table border=\"1\" class=\"dataframe\">\n",
       "  <thead>\n",
       "    <tr style=\"text-align: right;\">\n",
       "      <th></th>\n",
       "      <th>ID</th>\n",
       "      <th>year</th>\n",
       "      <th>month</th>\n",
       "      <th>geometry</th>\n",
       "    </tr>\n",
       "  </thead>\n",
       "  <tbody>\n",
       "    <tr>\n",
       "      <th>0</th>\n",
       "      <td>198509_1267317</td>\n",
       "      <td>1985</td>\n",
       "      <td>9</td>\n",
       "      <td>POLYGON ((-43.98125 -16.53268, -43.97990 -16.5...</td>\n",
       "    </tr>\n",
       "    <tr>\n",
       "      <th>1</th>\n",
       "      <td>198509_1267318</td>\n",
       "      <td>1985</td>\n",
       "      <td>9</td>\n",
       "      <td>POLYGON ((-44.07207 -16.54912, -44.07180 -16.5...</td>\n",
       "    </tr>\n",
       "    <tr>\n",
       "      <th>2</th>\n",
       "      <td>198509_1267319</td>\n",
       "      <td>1985</td>\n",
       "      <td>9</td>\n",
       "      <td>POLYGON ((-44.05994 -16.56637, -44.05967 -16.5...</td>\n",
       "    </tr>\n",
       "    <tr>\n",
       "      <th>3</th>\n",
       "      <td>198509_1267320</td>\n",
       "      <td>1985</td>\n",
       "      <td>9</td>\n",
       "      <td>POLYGON ((-44.05913 -16.56637, -44.05859 -16.5...</td>\n",
       "    </tr>\n",
       "    <tr>\n",
       "      <th>4</th>\n",
       "      <td>198509_1267321</td>\n",
       "      <td>1985</td>\n",
       "      <td>9</td>\n",
       "      <td>POLYGON ((-44.05805 -16.56691, -44.05778 -16.5...</td>\n",
       "    </tr>\n",
       "  </tbody>\n",
       "</table>\n",
       "</div>"
      ],
      "text/plain": [
       "               ID  year  month  \\\n",
       "0  198509_1267317  1985      9   \n",
       "1  198509_1267318  1985      9   \n",
       "2  198509_1267319  1985      9   \n",
       "3  198509_1267320  1985      9   \n",
       "4  198509_1267321  1985      9   \n",
       "\n",
       "                                            geometry  \n",
       "0  POLYGON ((-43.98125 -16.53268, -43.97990 -16.5...  \n",
       "1  POLYGON ((-44.07207 -16.54912, -44.07180 -16.5...  \n",
       "2  POLYGON ((-44.05994 -16.56637, -44.05967 -16.5...  \n",
       "3  POLYGON ((-44.05913 -16.56637, -44.05859 -16.5...  \n",
       "4  POLYGON ((-44.05805 -16.56691, -44.05778 -16.5...  "
      ]
     },
     "execution_count": 12,
     "metadata": {},
     "output_type": "execute_result"
    }
   ],
   "source": [
    "data.head()"
   ]
  },
  {
   "cell_type": "code",
   "execution_count": 15,
   "id": "a1f98285-e18f-410d-bc3e-1823cacddcdd",
   "metadata": {},
   "outputs": [
    {
     "data": {
      "text/html": [
       "<div>\n",
       "<style scoped>\n",
       "    .dataframe tbody tr th:only-of-type {\n",
       "        vertical-align: middle;\n",
       "    }\n",
       "\n",
       "    .dataframe tbody tr th {\n",
       "        vertical-align: top;\n",
       "    }\n",
       "\n",
       "    .dataframe thead th {\n",
       "        text-align: right;\n",
       "    }\n",
       "</style>\n",
       "<table border=\"1\" class=\"dataframe\">\n",
       "  <thead>\n",
       "    <tr style=\"text-align: right;\">\n",
       "      <th></th>\n",
       "      <th>ID</th>\n",
       "      <th>year</th>\n",
       "      <th>month</th>\n",
       "      <th>geometry</th>\n",
       "    </tr>\n",
       "  </thead>\n",
       "  <tbody>\n",
       "    <tr>\n",
       "      <th>610510</th>\n",
       "      <td>198509_1877827</td>\n",
       "      <td>1985</td>\n",
       "      <td>9</td>\n",
       "      <td>MULTIPOLYGON (((-47.63182 -15.13185, -47.63182...</td>\n",
       "    </tr>\n",
       "    <tr>\n",
       "      <th>610511</th>\n",
       "      <td>198509_1877828</td>\n",
       "      <td>1985</td>\n",
       "      <td>9</td>\n",
       "      <td>POLYGON ((-47.55663 -15.13158, -47.55636 -15.1...</td>\n",
       "    </tr>\n",
       "    <tr>\n",
       "      <th>610512</th>\n",
       "      <td>198509_1877829</td>\n",
       "      <td>1985</td>\n",
       "      <td>9</td>\n",
       "      <td>POLYGON ((-45.32602 -15.13077, -45.32495 -15.1...</td>\n",
       "    </tr>\n",
       "    <tr>\n",
       "      <th>610513</th>\n",
       "      <td>198509_1877830</td>\n",
       "      <td>1985</td>\n",
       "      <td>9</td>\n",
       "      <td>POLYGON ((-50.87303 -19.89463, -50.87276 -19.8...</td>\n",
       "    </tr>\n",
       "    <tr>\n",
       "      <th>610514</th>\n",
       "      <td>198509_1877831</td>\n",
       "      <td>1985</td>\n",
       "      <td>9</td>\n",
       "      <td>POLYGON ((-56.27667 -15.13266, -56.27802 -15.1...</td>\n",
       "    </tr>\n",
       "  </tbody>\n",
       "</table>\n",
       "</div>"
      ],
      "text/plain": [
       "                    ID  year  month  \\\n",
       "610510  198509_1877827  1985      9   \n",
       "610511  198509_1877828  1985      9   \n",
       "610512  198509_1877829  1985      9   \n",
       "610513  198509_1877830  1985      9   \n",
       "610514  198509_1877831  1985      9   \n",
       "\n",
       "                                                 geometry  \n",
       "610510  MULTIPOLYGON (((-47.63182 -15.13185, -47.63182...  \n",
       "610511  POLYGON ((-47.55663 -15.13158, -47.55636 -15.1...  \n",
       "610512  POLYGON ((-45.32602 -15.13077, -45.32495 -15.1...  \n",
       "610513  POLYGON ((-50.87303 -19.89463, -50.87276 -19.8...  \n",
       "610514  POLYGON ((-56.27667 -15.13266, -56.27802 -15.1...  "
      ]
     },
     "execution_count": 15,
     "metadata": {},
     "output_type": "execute_result"
    }
   ],
   "source": [
    "data.tail()"
   ]
  },
  {
   "cell_type": "code",
   "execution_count": 14,
   "id": "6dfdd51b-3c84-41d8-ab9f-29fef4c01283",
   "metadata": {},
   "outputs": [],
   "source": [
    "import os\n",
    "import csv\n",
    "def readListFiles_fromCSV(csv_fp):\n",
    "    \n",
    "    #fileList_csv = './server_orders/MBfogo_coordinates_node9.csv'\n",
    "    with open(csv_fp, newline='') as f:\n",
    "        reader = csv.reader(f)\n",
    "        \n",
    "        # Counting number of columns\n",
    "        ncol = len(next(reader))\n",
    "        f.seek(0)\n",
    "        \n",
    "        # If reader only has one column, return a list\n",
    "        if ncol == 1:\n",
    "            list_fp = [element[0] for element in reader]\n",
    "        if ncol == 2:\n",
    "            list_fp = [(element[0], element[1]) for element in reader]\n",
    "        # print([element[1] for element in reader])\n",
    "        \n",
    "    return list_fp"
   ]
  },
  {
   "cell_type": "code",
   "execution_count": 16,
   "id": "3e1c2621-437f-4c9e-a867-e2b3712b8a50",
   "metadata": {},
   "outputs": [],
   "source": [
    "csv_fp = '../server_orders/MBfogo_fix_geometries.csv'"
   ]
  },
  {
   "cell_type": "code",
   "execution_count": 17,
   "id": "be5fecad-97b7-4439-ad90-7b31503ff590",
   "metadata": {},
   "outputs": [
    {
     "data": {
      "text/plain": [
       "['../../data/temp/2000_CM']"
      ]
     },
     "execution_count": 17,
     "metadata": {},
     "output_type": "execute_result"
    }
   ],
   "source": [
    "readListFiles_fromCSV(csv_fp)"
   ]
  },
  {
   "cell_type": "code",
   "execution_count": null,
   "id": "8c854eda-997d-41fb-a5f4-a23cb5cd1198",
   "metadata": {},
   "outputs": [],
   "source": []
  }
 ],
 "metadata": {
  "kernelspec": {
   "display_name": "geo_env",
   "language": "python",
   "name": "geo_env"
  },
  "language_info": {
   "codemirror_mode": {
    "name": "ipython",
    "version": 3
   },
   "file_extension": ".py",
   "mimetype": "text/x-python",
   "name": "python",
   "nbconvert_exporter": "python",
   "pygments_lexer": "ipython3",
   "version": "3.9.2"
  }
 },
 "nbformat": 4,
 "nbformat_minor": 5
}
